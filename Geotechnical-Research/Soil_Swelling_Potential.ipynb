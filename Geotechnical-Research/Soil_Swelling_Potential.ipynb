{
  "nbformat": 4,
  "nbformat_minor": 0,
  "metadata": {
    "colab": {
      "provenance": []
    },
    "kernelspec": {
      "name": "python3",
      "display_name": "Python 3"
    },
    "language_info": {
      "name": "python"
    }
  },
  "cells": [
    {
      "cell_type": "markdown",
      "source": [
        "# **A Numeric Optimization on a Semi-Analytic Model of Soil Swelling Potential**\n",
        "\n",
        "Rizal Purnawan<sup>1</sup>\\\n",
        "Ngircuk Hirwo<sup>2</sup>\n",
        "\n",
        "ORCID: <sup>1</sup>[0000-0001-8858-4036](https://orcid.org/0000-0001-8858-4036)\n",
        "\n",
        "This notebook contains the computation of our research in geotechnical engineering regarding soil swelling potential."
      ],
      "metadata": {
        "id": "1UPvv3swo0BF"
      }
    },
    {
      "cell_type": "markdown",
      "source": [
        "## **1. Introduction**\n"
      ],
      "metadata": {
        "id": "3cTp9jUcpkvI"
      }
    },
    {
      "cell_type": "markdown",
      "source": [
        "We have conducted a laboratory test to investigate the soil swelling potential. A cylindrical soil sample is subjected to constant loading. The deformation of the sample is recorded over time. The data is then processed such that we obtain the soil strain over time. In this notebook, we will build a mathematical model to describe the strain as a function of time. All computations are conducted in this notebook."
      ],
      "metadata": {
        "id": "a0mLePapptNT"
      }
    },
    {
      "cell_type": "markdown",
      "source": [
        "## **2. Literature Review**"
      ],
      "metadata": {
        "id": "8Xh9SW2-ST6v"
      }
    },
    {
      "cell_type": "markdown",
      "source": [
        "In this section, we will briefly explain the required machinery for executing this research. Necessary mathematical subjects inlcude probability theory and and general topology. In fact, we also employ ordinary differential equation (ODE). However, we will not cover the explanation about ODE and its calculus foundation. Instead, the readers are assumed to already have sufficient knowledge in ODE.\n",
        "\n",
        "In addition, set theory and first order logic will regularly be incorporated in any formal expression. Hence, the reader are referred to (Stoll, 1979) for detailed explanations regarding set theory and first order logic."
      ],
      "metadata": {
        "id": "zuqkyYSLSWUn"
      }
    },
    {
      "cell_type": "markdown",
      "source": [
        "### **2.1. Probability Theory**"
      ],
      "metadata": {
        "id": "PcBK7qI_TATV"
      }
    },
    {
      "cell_type": "markdown",
      "source": [
        "Probability theory [(Bremaud, 2020)](https://doi.org/10.1007/978-3-030-40183-2) will be employed in the statistical analysis to find some relations regarding the dataset of the laboratory test. The most basic concept in probability theory is the formal treatment of probability incorporating measure theory [(Salamon, 2016)](https://doi.org/10.4171/159), known as the probability space. We will list important concepts in probability theory.However, we will not explain measure theory in this discussion. Instead, the readers are referred to [(Salamon, 2016)](https://doi.org/10.4171/159) for the detailed explanation of measure theory.\n",
        "\n",
        "---\n",
        "**Definition 1 (Probability Space).**\n",
        "Suppose an experiment or observation with a set $\\Omega$ being the set of samples. A probability space on $\\Omega$ is a triple $(\\Omega, \\mathcal{F}, P)$ where $\\mathcal{F}$ is a $\\sigma$-algebra [(Salamon, 2016)](https://doi.org/10.4171/159) on $\\Omega$ representing the events related to $\\Omega$ and $P: \\mathcal{F} \\to [0, 1]$ is a measure [(Salamon, 2016)](https://doi.org/10.4171/159) called probability measure with the following properties:\n",
        "1. $P(\\varnothing) = 0$\n",
        "2. $P(\\Omega) = 1$\n",
        "3. For any countable family $\\{A_k\\}_{k = 1}^\\infty \\subseteq \\mathcal{F}$ such that\n",
        "\\begin{equation}\n",
        "    \\forall i, j \\in \\mathbb{N} \\;\\;\n",
        "    i \\neq j \\implies A_i \\cap A_j = \\varnothing \\,,\n",
        "\\end{equation}\n",
        "then\n",
        "\\begin{equation}\n",
        "    P \\left( \\bigcup_{k = 1}^\\infty A_k \\right)\n",
        "    = \\sum_{k = 1}^\\infty P(A_k)\n",
        "\\end{equation}\n",
        "holds.\n",
        "\n",
        "---\n",
        "**Definition 2 (Random Variable)**. Let $(\\Omega, \\mathcal{F}, P)$ be a probability space. A random variable on $\\Omega$ is a map $X: \\Omega \\to \\mathbb{R}$ such that $X$ is a measurable function [(Salamon, 2016)](https://doi.org/10.4171/159) with respect to $(\\Omega, \\mathcal{F})$ and a measurable space on $\\mathbb{R}$ [(Salamon, 2016)](https://doi.org/10.4171/159).\n",
        "\n",
        "---\n",
        "\n",
        "The random variables that will be employed in this discussion, and most likely in any experimental project, are elements of $L^2$ [(Salamon, 2016)](https://doi.org/10.4171/159), or the square Lebesgue integrable random variables. First, we will pose the formal definition of such random variables in a more general sense as follows.\n",
        "\n",
        "---\n",
        "**Definition 3 ($L^p$ Random Variables).** Suppose a probability space $(\\Omega, \\mathcal{F}, P)$. Let $p \\in [1, \\infty)$. Suppose a vector space $L^p(P)$ of $p$-integrable random variables [(Salamon, 2016)](https://doi.org/10.4171/159). A random variable $X: \\Omega \\to \\mathbb{R}$ have a property $X \\in L^p(P)$ if and only if\n",
        "\\begin{equation}\n",
        "    \\left( \\int_\\Omega |X|^p \\,\\mathrm{d}P \\right)^{\\frac{1}{p}} < \\infty \\,.\n",
        "\\end{equation}\n",
        "\n",
        "---\n",
        "An important inequality related to $L^p$ space is that $L^2 \\subset L^1$ [(Villani, 1985)](https://doi.org/10.2307%2F2322503) if the underlying measure [(Salamon, 2016)](https://doi.org/10.4171/159) is a finite measure and that the underlying set does not contains arbitrary large measure. As we see that a probability measure has a relatively small value, $P(A) \\leq 1$, for every $A \\in \\mathcal{F}$. Now let us observe the following property that will apply to our experimental problem.\n",
        "\n",
        "---\n",
        "**Theorem 1 (Finite Random Variables).** Suppose a probability space $(\\Omega, \\mathcal{F}, P)$ such that $|\\Omega| < \\infty$. Suppose a random variable $X: \\Omega \\to \\mathbb{R}$ such that\n",
        "\\begin{equation}\n",
        "    \\forall \\omega \\in \\Omega :\\;\n",
        "    X(\\omega) < \\infty \\,.\n",
        "\\end{equation}\n",
        "Then $X \\in L^2(P)$.\n",
        "\n",
        "*Proof.* By the boundedness of $X$, let $M \\in (0, \\infty)$ such that\n",
        "\\begin{equation}\n",
        "    \\forall \\omega \\in \\Omega :\\;\n",
        "    |X(\\omega)| < M \\,.\n",
        "\\end{equation}\n",
        "Follows from the formal definition of Lebesgue integral [(Salamon, 2016)](https://doi.org/10.4171/159) and the finiteness of $\\Omega$, we obtain\n",
        "\\begin{align}\n",
        "    \\left( \\int_{\\Omega} X^2 \\,\\mathrm{d}P \\right)^{\\frac{1}{2}}\n",
        "    &= \\left( \\sum_{\\omega \\in \\Omega} X^2(\\omega) P(\\{\\omega\\}) \\right)^{\\frac{1}{2}} \\\\\n",
        "    &\\leq \\left( \\sum_{\\omega \\in \\Omega} X^2(\\omega) P(\\{\\Omega\\}) \\right)^{\\frac{1}{2}} \\\\\n",
        "    &= \\left( \\sum_{\\omega \\in \\Omega} X^2(\\omega) \\cdot 1 \\right)^{\\frac{1}{2}} \\\\\n",
        "    &< \\sqrt{ |\\Omega| M^2 } \\\\\n",
        "    &= M \\sqrt{ |\\Omega| } \\\\\n",
        "    &< \\infty \\,,\n",
        "\\end{align}\n",
        "which shows that $X \\in L^2(P)$ according to the earlier definition. $\\Box$\n",
        "\n",
        "---\n",
        "Note that random variables such as the one described in the theorem above are random variables that mostly describe real world experiments, including the one used in this project. In other words, we will deal with $L^2$ random variables. And by the property from [(Villani, 1985)](https://doi.org/10.2307%2F2322503), the random variables will also be $L^1$.\n",
        "\n",
        "---\n",
        "**Definition 4 (Expectation).** Suppose a probability space $(\\Omega, \\mathcal{F}, P)$. Expectation is a map $\\mathrm{E}: L^1(P) \\to \\mathbb{R}$ defined by\n",
        "\\begin{equation}\n",
        "    \\forall X \\in L^1(P) :\\;\n",
        "    \\mathrm{E}[X] := \\int_{\\Omega} X \\,\\mathrm{d}P \\,.\n",
        "\\end{equation}\n",
        "\n",
        "---\n",
        "In the definition above, indeed we restrict the definition of expectation only on integrable random variables. Since this kind of random variables will be of interests in experimental problems.\n",
        "\n",
        "---\n",
        "**Definition 5 (Covariance).** Suppose a probability space $(\\Omega, \\mathcal{F}, P)$. Covariance is a map $\\mathrm{cov}: L^2(P) \\times L^2(P) \\to \\mathbb{R}$ defined by\n",
        "\\begin{equation}\n",
        "    \\forall X, Y \\in L^2(P) :\\;\n",
        "    \\mathrm{cov}(X, Y) := \\mathrm{E}[(X - \\mathrm{E}[X])(Y - \\mathrm{E}[Y])]\n",
        "    \\,.\n",
        "\\end{equation}\n",
        "\n",
        "---\n",
        "**Proposition 1 (Simplified Expression of Covariance).** Suppose a probability space $(\\Omega, \\mathcal{F}, P)$. Let $X, Y \\in L^2(P)$. Follows from the linaerity property of Lebesgue integral [(Salamon, 2016)](https://doi.org/10.4171/159), we can also express covariance as\n",
        "\\begin{align}\n",
        "    \\mathrm{cov}(X, Y)\n",
        "    &= \\mathrm{E}[(X - \\mathrm{E}[X])(Y - \\mathrm{E}[Y])] \\\\\n",
        "    &= \\int_{\\Omega} (X - \\mathrm{E}[X])(Y - \\mathrm{E}[Y]) \\,\\mathrm{d}P \\\\\n",
        "    &= \\int_{\\Omega} XY - X \\mathrm{E}[Y] - \\mathrm{E}[X] Y + \\mathrm{E}[X] \\mathrm{E}[Y] \\,\\mathrm{d}P \\\\\n",
        "    &= \\int_{\\Omega} XY \\,\\mathrm{d}P - \\int_{\\Omega} X \\mathrm{E}[Y] \\,\\mathrm{d}P - \\int_{\\Omega} \\mathrm{E}[X] Y \\,\\mathrm{d}P + \\int_{\\Omega} \\mathrm{E}[X] \\mathrm{E}[Y] \\,\\mathrm{d}P \\\\\n",
        "    &= \\int_{\\Omega} XY \\,\\mathrm{d}P - \\mathrm{E}[Y] \\int_{\\Omega} X \\,\\mathrm{d}P - \\mathrm{E}[X] \\int_{\\Omega} Y \\,\\mathrm{d}P + \\mathrm{E}[X]\\mathrm{E}[Y] \\\\\n",
        "    &= \\mathrm{E}[XY] -\\mathrm{E}[Y]\\mathrm{E}[X] -\\mathrm{E}[X]\\mathrm{E}[Y] + \\mathrm{E}[X]\\mathrm{E}[Y] \\\\\n",
        "    &= \\mathrm{E}[XY] - 2\\mathrm{E}[X]\\mathrm{E}[Y] + \\mathrm{E}[X]\\mathrm{E}[Y] \\\\\n",
        "    &= \\mathrm{E}[XY] - \\mathrm{E}[X]\\mathrm{E}[Y] \\,,\n",
        "\\end{align}\n",
        "or in short,\n",
        "\\begin{equation}\n",
        "    \\mathrm{cov}(X, Y) = \\mathrm{E}[XY] - \\mathrm{E}[X]\\mathrm{E}[Y] \\,.\n",
        "\\end{equation}\n",
        "\n",
        "---\n",
        "**Definition 6 (Variance).** Suppose a probability space $(\\Omega, \\mathcal{F}, P)$. Variance is a map $\\mathrm{var}: L^2(P) \\to \\mathbb{R}$ defined by\n",
        "\\begin{equation}\n",
        "    \\forall X \\in L^2(P) :\\;\n",
        "    \\mathrm{var}(X) := \\mathrm{cov}(X, X) \\,.\n",
        "\\end{equation}\n",
        "\n",
        "---\n",
        "**Definition 7 (Standard Deviation).** Suppose a probability space $(\\Omega, \\mathcal{F}, P)$. Standard deviation is a map $\\mathrm{std}: L^2(P) \\to \\mathbb{R}$ defined by\n",
        "\\begin{equation}\n",
        "    \\forall X \\in L^2(P) :\\;\n",
        "    \\mathrm{std}(X) := \\sqrt{ \\mathrm{var}(X) } \\,.\n",
        "\\end{equation}\n",
        "\n",
        "---\n",
        "Next, we will present the concept of correlation. There are two well-known types of correlation; linear correlation (also known as Pearson correlation) and rank correlation (also known as Spearman correlation). First, it is necessary to present the concept of almost surely.\n",
        "\n",
        "---\n",
        "**Definition 8 (Almost Surely).** Suppose a probability space $(\\Omega, \\mathcal{F}, P)$. Suppose a random variable $X: \\Omega \\to \\mathbb{R}$. Let $\\phi$ define some property on $X$ such that $\\phi X(\\omega)$ means that $\\phi$ holds at $X(\\omega)$, for some $\\omega \\in \\Omega$. Then we say that $X$ is almost surely $\\phi$ if and only if\n",
        "\\begin{equation}\n",
        "    P( \\{\\omega \\in \\Omega \\mid \\phi X(\\omega) \\} ) = 1 \\,.\n",
        "\\end{equation}\n",
        "\n",
        "---\n",
        "**Definition 9 (Pearson Correlation).** Suppose a probability space $(\\Omega, \\mathcal{F}, P)$. Let $\\mathcal{V}$ be a family of $L^2(P)$ random variables that are not almost surely constant, i. e.,\n",
        "\\begin{align}\n",
        "    \\mathcal{V}\n",
        "    &:= \\{ X \\in L^2(P) \\mid \\neg \\exists x \\in \\mathbb{R} [ P(X = x) = 1] \\} \\\\\n",
        "    &= \\{ X \\in L^2(P) \\mid \\exists x \\in \\mathbb{R} \\neg [ P(X = x) = 1] \\} \\\\\n",
        "    &= \\{ X \\in L^2(P) \\mid \\exists x \\in \\mathbb{R} [ P(X = x) < 1] \\}\n",
        "    \\,.\n",
        "\\end{align}\n",
        "Then Pearson correlation is a map $\\mathrm{corr}: \\mathcal{V} \\times \\mathcal{V} \\to \\mathbb{R}$ defined by\n",
        "\\begin{equation}\n",
        "    \\forall X, Y \\in \\mathcal{V} :\\;\n",
        "    \\mathrm{corr}(X, Y) := \\frac{\\mathrm{cov}(X, Y)}{\\mathrm{std}(X) \\cdot \\mathrm{std}(Y)} \\,.\n",
        "\\end{equation}\n",
        "\n",
        "---\n",
        "We will pose a fundamental property of Pearson correlation, but let us first present an important result from functional analysis known as Holder's inequality. We will present this inequality in a theorem but without a proof. Interested readers are encouraged to find the proof on any analysis literature.\n",
        "\n",
        "---\n",
        "**Theorem 2 (Holder's Inequality).** Suppose a measure space $(S, \\mathcal{A}, \\mu)$ [(Salamon, 2016)](https://doi.org/10.4171/159). Let $f, g: S \\to \\mathbb{R}$ be measurable functions. Let $p, q \\in (1, \\infty)$ such that\n",
        "\\begin{equation}\n",
        "    \\frac{1}{p} + \\frac{1}{q} = 1 \\,.\n",
        "\\end{equation}\n",
        "Then\n",
        "\\begin{equation}\n",
        "    \\int_S |f g| \\,\\mathrm{d}\\mu\n",
        "    \\leq \\left( \\int_S |f|^p \\,\\mathrm{d}\\mu \\right)^{\\frac{1}{p}}\n",
        "    \\left( \\int_S |g|^q \\,\\mathrm{d}\\mu \\right)^{\\frac{1}{q}}\n",
        "\\end{equation}\n",
        "holds.\n",
        "\n",
        "---\n",
        "In the case $p = q = 2$, the inequality is better known as Cauchy-Schwarz inequality. In fact, Holder's inequality is a generalization of Cauchy-Schwarz inequality. Now we present the property of Pearson correlation as follows.\n",
        "\n",
        "---\n",
        "**Theorem 3 (Image of Pearson Correlation).** Suppose a probability space $(\\Omega, \\mathcal{F}, P)$. Let $\\mathcal{V}$ be a family of $L^2(P)$ random variables that are not almost surely constant. Let $\\mathrm{corr}: \\mathcal{V} \\times \\mathcal{V} \\to \\mathbb{R}$ be the correlation operator. Then\n",
        "\\begin{equation}\n",
        "    \\mathrm{image}(\\mathrm{corr}) \\subseteq [-1, 1]\n",
        "\\end{equation}\n",
        "is true.\n",
        "\n",
        "*Proof.* Let $X, Y \\in \\mathcal{V}$. By definition $\\mathcal{V}$, it is clear that $X, Y \\in L^2(P)$. Note that $L^2(P)$ is a vector space, which implies that it is closed under vector addition. Note that $\\mathrm{E}[X], \\mathrm{E}[Y] \\in L^2(P)$. Let $\\tilde{X} := X - \\mathrm{E}[X]$ and $\\tilde{Y} := Y - \\mathrm{E}[Y]$. Hence $\\tilde{X}, \\tilde{Y} \\in L^2(P)$. Note that\n",
        "\\begin{equation}\n",
        "    \\mathrm{E}[\\tilde{X}^2] = \\mathrm{var}(X)\n",
        "    \\;\\land\\;\n",
        "    \\mathrm{E}[\\tilde{Y}^2] = \\mathrm{var}(Y) \\,.\n",
        "\\end{equation}\n",
        "Follows from the definition of covariance and the property of Lebesgue integral [(Salamon, 2016)](https://doi.org/10.4171/159), we obtain\n",
        "\\begin{equation}\n",
        "    |\\mathrm{cov}(X, Y)|\n",
        "    = \\left| \\int_{\\Omega} (X - \\mathrm{E}[X])(Y - \\mathrm{E}[Y]) \\,\\mathrm{d}P \\right|\n",
        "    = \\left| \\int_{\\Omega} \\tilde{X} \\tilde{Y} \\,\\mathrm{d}P \\right|\n",
        "    \\leq \\int_{\\Omega} \\big|\\tilde{X} \\tilde{Y}\\big| \\,\\mathrm{d}P \\,.\n",
        "\\end{equation}\n",
        "Then by Holder's inequality, we obtain\n",
        "\\begin{equation}\n",
        "    \\int_{\\Omega} \\big|\\tilde{X} \\tilde{Y}\\big| \\,\\mathrm{d}P\n",
        "    \\leq \\left( \\int_{\\Omega} \\tilde{X}^2 \\,\\mathrm{d}P \\right)^{\\frac{1}{2}}\n",
        "    \\left( \\int_{\\Omega} \\tilde{Y}^2 \\,\\mathrm{d}P \\right)^{\\frac{1}{2}}\n",
        "    = \\sqrt{ \\mathrm{E}[ \\tilde{X}^2 ] } \\sqrt{ \\mathrm{E}[ \\tilde{Y}^2 ] }\n",
        "    = \\sqrt{ \\mathrm{var}(X) } \\sqrt{ \\mathrm{var}(Y) }\n",
        "    = \\mathrm{std}(X) \\cdot \\mathrm{std}(Y) \\,.\n",
        "\\end{equation}\n",
        "Consequently,\n",
        "\\begin{equation}\n",
        "    |\\mathrm{cov}(X, Y)|\n",
        "    \\leq \\mathrm{std}(X) \\cdot \\mathrm{std}(Y) \\,.\n",
        "\\end{equation}\n",
        "Since $X, Y \\in \\mathcal{V}$, which means that $X$ and $Y$ are not almost surely constant, then $\\mathrm{std}(X), \\mathrm{std}(Y) > 0$. Then we obtain\n",
        "\\begin{equation}\n",
        "    |\\mathrm{corr}(X, Y)|\n",
        "    = \\frac{|\\mathrm{cov}(X, Y)|}{\\mathrm{std}(X) \\cdot \\mathrm{std}(Y)}\n",
        "    \\leq \\frac{\\mathrm{std}(X) \\cdot \\mathrm{std}(Y)}{\\mathrm{std}(X) \\cdot \\mathrm{std}(Y)}\n",
        "    = 1 \\,,\n",
        "\\end{equation}\n",
        "which shows that $\\mathrm{cor}(X, Y) \\in [-1, 1]$. And it applies to every pair $X, Y \\in \\mathcal{V}$, hence\n",
        "\\begin{equation}\n",
        "    \\mathrm{image}(\\mathrm{corr}) \\subseteq [-1, 1] \\,,\n",
        "\\end{equation}\n",
        "which concludes the proof. $\\Box$\n",
        "\n",
        "---\n",
        "**Definition 10 (Spearman Correlation).** Suppose a probability space $(\\Omega, \\mathcal{F}, P)$. Let $S^2(P) \\subset L^2(P)$ be a family of simple random variables. Which means\n",
        "\\begin{equation}\n",
        "    \\forall X \\in S^2(P) :\\;\n",
        "    |\\mathrm{image}(X)| < \\infty \\,.\n",
        "\\end{equation}\n",
        "Rank coefficient of $X \\in S^2(P)$ is a map $R_X: \\Omega \\to \\mathbb{N}$ such that $R_X(\\omega)$ is the rank or ordering of $X(\\omega)$ in $\\mathrm{image}(X)$, for every $\\omega \\in \\Omega$. Then Spearman correlation is a map $\\mathrm{corr_r}: \\big( \\mathcal{V} \\cap S^2(P) \\big)^2 \\to \\mathbb{R}$ defined by\n",
        "\\begin{equation}\n",
        "    \\forall X, Y \\in \\mathcal{V} \\cap S^2(P) :\\;\n",
        "    \\mathrm{corr}_r(X, Y) := \\mathrm{corr}(R_X, R_Y) \\,.\n",
        "\\end{equation}\n",
        "\n",
        "---\n",
        "As we can see from the definition, Spearman correlation is only well-defined on discrete random variables. However, our lab dataset is discrete, hence Spearman correlation is still well-defined on our data.\n",
        "\n",
        "The significant different of Pearson and Spearman correlations is that Pearson correlation describes the linear relationship between a pair of random variables, while Spearman correlation describe monotonic relationship between a pair of random variables."
      ],
      "metadata": {
        "id": "9gXlQE11TFdB"
      }
    },
    {
      "cell_type": "markdown",
      "source": [
        "### **2.2. Metric Topology**"
      ],
      "metadata": {
        "id": "MP3VuOYfjpAl"
      }
    },
    {
      "cell_type": "markdown",
      "source": [
        "The topic in general topology to be included in the research is metric space. Since we deal with numeric data, which are real numbers, the topological space of interest is the one induced from the usual metric space on $\\mathbb{R}$ (Andre, 2020).\n",
        "\n",
        "---\n",
        "**Definition 11 (Metric Space).** Let $S$ be a set. A map $d: S \\times S \\to \\mathbb{R}$ is called a metric (or distance function) if and only if the following axioms are satisfied:\n",
        "1. $\\forall x, y \\in S:\\; d(x, y) \\geq 0$\n",
        "2. $\\forall x, y \\in S:\\; d(x, y) = 0 \\iff x = y$\n",
        "3. $\\forall x, y \\in S:\\; d(x, y) = d(y, x)$\n",
        "4. $\\forall x, y, z \\in S:\\; d(x, y) \\leq d(x, z) + d(z, y)$\n",
        "\n",
        "Given a metric $d: S \\times S \\to \\mathbb{R}$ on $S$, then the pair $(S, d)$ is called a metric space (Andre, 2020).\n",
        "\n",
        "---\n",
        "Axioms 2, 3 and 4 in definition 11 are referred to as the point separation axiom, symmetric axiom and triangle inequality respectively.\n",
        "\n",
        "---\n",
        "**Definition 12 (Open Ball).** Let $(S, d)$ be a metric space. Let $\\rho > 0$. A map $B_\\rho: S \\to \\mathcal{P}(S)$ defined by\n",
        "\\begin{equation}\n",
        "    \\forall x \\in S :\\;\n",
        "    B_\\rho(x) := \\{ u \\in S \\mid d(u, x) < \\rho \\}\n",
        "\\end{equation}\n",
        "is called an open ball operator. Given some point $s \\in S$, $B_\\rho(s)$ is called an open ball of radius $\\rho$ centred at $s$.\n",
        "\n",
        "---\n",
        "**Definition 13 (Open Set).** Let $(S, d)$ be a metric space. A set $A \\subset S$ is called an open set (or $d$-open set) if and only if $A$ can be expressed as a union of open balls, i. e.,\n",
        "\\begin{equation}\n",
        "    A = \\bigcup_{x \\in A} B_{\\rho(x)}(x)\n",
        "\\end{equation}\n",
        "where $\\rho: S \\to \\mathbb{R}$ is a radius function.\n",
        "\n",
        "---\n",
        "**Definition 14 (Neighbourhood).** Let $(S, d)$ be a metric space. Let $x \\in S$. A neighbourhood of $x$ is a set $A$ such that\n",
        "\\begin{equation}\n",
        "    \\exists r > 0[ B_r(x) \\subseteq A ] \\,.\n",
        "\\end{equation}\n",
        "\n",
        "---\n",
        "Note that every point is an element of its ball, indeed, it the point is in the centre of the ball in a sense of metric space. While a neighbourhood of a point must contain an open ball of the point, it can bee guaranteed that the point is contained in the neighbourhood.\n",
        "\n",
        "We end the discussion of metric topology up to this point, since we have coverd the necessary topics in metric topology which will be incorporated in the analysis."
      ],
      "metadata": {
        "id": "Vd4rW2ErjtK8"
      }
    },
    {
      "cell_type": "markdown",
      "source": [
        "## **3. Exploratory Data Analysis**"
      ],
      "metadata": {
        "id": "KLXhQUVzq5iu"
      }
    },
    {
      "cell_type": "markdown",
      "source": [
        "We will observe the data from the laboratory test in order to decide what mathematical theory to be used as a model of the soil strain.\n",
        "\n",
        "Python packages such as `numpy`, `pandas`, `matplotlib` will be used in this process."
      ],
      "metadata": {
        "id": "JWdg69CKq_UI"
      }
    },
    {
      "cell_type": "code",
      "execution_count": null,
      "metadata": {
        "cellView": "form",
        "id": "TBfCoeuBohFm"
      },
      "outputs": [],
      "source": [
        "#@title ##### Python Libraries\n",
        "\n",
        "import numpy as np\n",
        "import pandas as pd\n",
        "import matplotlib\n",
        "import matplotlib.pyplot as plt"
      ]
    },
    {
      "cell_type": "code",
      "source": [
        "#@title ##### Data Extraction\n",
        "\n",
        "path = \"/content/drive/MyDrive/Datasets/swelling_potential.xlsx\"\n",
        "\n",
        "def soil_data():\n",
        "    df = pd.read_excel(path, sheet_name= \"original soil\")\n",
        "    df.columns = [\n",
        "        \"time\", \"dial_reading\",\n",
        "        \"swelling\", \"diff_Ht\",\n",
        "        \"fin_Ht\", \"strain\",\n",
        "        \"diff_vol\"\n",
        "    ]\n",
        "    return pd.DataFrame(df, columns = [\"time\", \"strain\"])\n",
        "\n",
        "soil = soil_data().copy()"
      ],
      "metadata": {
        "cellView": "form",
        "id": "_5RXoM2BrtTO"
      },
      "execution_count": null,
      "outputs": []
    },
    {
      "cell_type": "markdown",
      "source": [
        "### **3.1. Visualization of Lab Dataset**"
      ],
      "metadata": {
        "id": "tobeWqfp6W4b"
      }
    },
    {
      "cell_type": "markdown",
      "source": [
        "The lab tes dataset is visualized as follows:"
      ],
      "metadata": {
        "id": "xQ8vvvz3sDAL"
      }
    },
    {
      "cell_type": "code",
      "source": [
        "#@title ##### Soil Data Visualization\n",
        "\n",
        "with matplotlib.style.context(\"seaborn-v0_8\", after_reset= True):\n",
        "    init_dat_fig, init_dat_axs = plt.subplots(\n",
        "        nrows= 1, ncols= 2, figsize= (12, 4)\n",
        "    )\n",
        "    init_dat_fig = soil.plot(\n",
        "        x= \"time\", y= \"strain\",\n",
        "        xlabel= r\"Time, $t$ (min)\",\n",
        "        ylabel= \"Strain (%)\",\n",
        "        label= r\"$\\varepsilon$\",\n",
        "        title= \"Time Dependent Strain of Lab Test\\n(Normal Time Domain)\",\n",
        "        marker= \"s\", color= plt.cm.cool(0.2), linewidth= 0.8,\n",
        "        ax= init_dat_axs[0]\n",
        "    )\n",
        "    init_dat_fig = soil.plot(\n",
        "        x= \"time\", y= \"strain\",\n",
        "        xlabel= r\"Time, $t$ (min)\",\n",
        "        ylabel= \"Strain (%)\",\n",
        "        label= r\"$\\varepsilon$\",\n",
        "        title= \"Time Dependent Strain of Lab Test\\n(Logarithmic Time Domain)\",\n",
        "        marker= \"s\", color= plt.cm.cool(0.8), linewidth= 0.8,\n",
        "        logx= True, ax= init_dat_axs[1]\n",
        "    )\n",
        "    init_dat_fig = plt.show()"
      ],
      "metadata": {
        "colab": {
          "base_uri": "https://localhost:8080/",
          "height": 435
        },
        "cellView": "form",
        "id": "Plm-sGVWsIjm",
        "outputId": "f25b4288-390b-4ff0-9647-460f9605bdb5"
      },
      "execution_count": null,
      "outputs": [
        {
          "output_type": "display_data",
          "data": {
            "text/plain": [
              "<Figure size 1200x400 with 2 Axes>"
            ],
            "image/png": "[encoded data removed]"
          },
          "metadata": {}
        }
      ]
    },
    {
      "cell_type": "markdown",
      "source": [
        "If we observe the graph, it seems like resembling the graph of an inverse exponential function. While the logarithmic scale plot shows that $\\log(t) \\mapsto \\varepsilon(t)$ is a sigmoid curve. If this is indeed the case, we can use an inverse exponential function to model $\\varepsilon$. However, we need a rigorous and formal construction for this matter."
      ],
      "metadata": {
        "id": "VLHLGn2v3euX"
      }
    },
    {
      "cell_type": "markdown",
      "source": [
        "### **3.2. Mathematical Model of Strain**"
      ],
      "metadata": {
        "id": "Orpyn54P6ePy"
      }
    },
    {
      "cell_type": "markdown",
      "source": [
        "Therefore, we now present a partial mathematical model of the soil strain. Suppose $T \\subseteq [0, \\infty)$ is the time domain of the strain. The set $T$ is designated to be an interval, not necessarily compact, but connected. We model the strain as a map $\\varepsilon: T \\to \\mathbb{R}$. Now let $\\tilde{T} \\subset T$ represent the set of time points within the lab dataset. Obviously, $|\\tilde{T}| < \\infty$. Suppose $|\\tilde{T}| = N + 1$, for some $N \\in \\mathbb{N}$. In particular, we may express $\\tilde{T}$ by\n",
        "\\begin{equation}\n",
        "    \\tilde{T} := \\{t_0, t_1, \\dotsc, t_N\\} \\,.\n",
        "\\end{equation}\n",
        "We also define\n",
        "\\begin{equation}\n",
        "    \\tilde{T}_1 := \\{t_1, \\dotsc, t_N\\} \\,.\n",
        "\\end{equation}\n",
        "\n",
        "Now we want to confirm a hypothesis that $\\varepsilon\\big|_{\\tilde{T}_1}$ is negatively proportional to the difference quotient of itself. We will use both statistical analysis and visual observation for this case. The difference quotient of $\\varepsilon$, given by the map $\\frac{\\Delta \\varepsilon}{\\Delta t}: \\tilde{T}_1 \\to \\mathbb{R}$,\n",
        "is defined by\n",
        "\\begin{equation}\n",
        "    \\forall k \\in \\{1, \\dotsc, N\\} :\\;\n",
        "    \\frac{\\Delta \\varepsilon}{\\Delta t}(t_k)\n",
        "    := \\frac{\\varepsilon(t_k) - \\varepsilon(t_{k - 1})}{t_k - t_{k - 1}} \\,.\n",
        "\\end{equation}"
      ],
      "metadata": {
        "id": "Q_tm5XtQ6hgN"
      }
    },
    {
      "cell_type": "markdown",
      "source": [
        "#### **3.2.1. Statistical Analysis**"
      ],
      "metadata": {
        "id": "pBXdNhksLEL5"
      }
    },
    {
      "cell_type": "markdown",
      "source": [
        "For the statistical analysis, we will evaluate the correlation between $\\varepsilon\\big|_{\\tilde{T}_1}$ and $\\frac{\\Delta \\varepsilon}{\\Delta t}$. Note that we can define a probability space $(\\tilde{T}_1, \\mathcal{F}_{\\tilde{T}_1}, P)$ on $\\tilde{T}_1$ with the probability measure $P: \\mathcal{F}_{\\tilde{T}_1} \\to [0 , 1]$ defined by\n",
        "\\begin{equation}\n",
        "    \\forall t \\in \\tilde{T}_1 :\\;\n",
        "    P(t) := \\frac{|\\{t\\}|}{|\\tilde{T}_1|} = \\frac{1}{N} \\,.\n",
        "\\end{equation}\n",
        "Then $\\varepsilon\\big|_{\\tilde{T}_1}$ and $\\frac{\\Delta \\varepsilon}{\\Delta t}$ can be considered as discrete random variables on $(\\tilde{T}_1, \\mathcal{F}_{\\tilde{T}_1}, P)$. Note that the strain numeric values from our lab test are bounded, i. e.,\n",
        "\\begin{equation}\n",
        "    \\forall t \\in \\tilde{T} :\\;\n",
        "    |\\varepsilon(t)| = \\varepsilon(t) < \\infty\n",
        "\\end{equation}\n",
        "with $\\varepsilon(t_0) = 0$. Hence, by the theorem 1 section 2 earlier, we have $\\varepsilon\\big|_{\\tilde{T}_1}, \\frac{\\Delta \\varepsilon}{\\Delta t} \\in L^2(P)$. Therefore, the correlation operator is well defined on $\\varepsilon\\big|_{\\tilde{T}_1}, \\frac{\\Delta \\varepsilon}{\\Delta t}$. We will apply both Pearson and Spearman correlations for the analysis.\n",
        "\n",
        "The computations are presented as follows."
      ],
      "metadata": {
        "id": "GfeJt8khLLHF"
      }
    },
    {
      "cell_type": "code",
      "source": [
        "#@title ##### Computing Pearson and Spearman Correlation\n",
        "\n",
        "# 1. Computing difference quotient:\n",
        "# 1.1. The list of different quotient:\n",
        "diff_quot = [\n",
        "    ( list(soil[\"strain\"])[k] - list(soil[\"strain\"])[k - 1] )\n",
        "    / ( list(soil[\"time\"])[k] - list(soil[\"time\"])[k - 1] )\n",
        "    for k in range(1, len(soil))\n",
        "]\n",
        "\n",
        "# 1.2. Creating a new dataframe of soil strain:\n",
        "soil_process = soil.loc[1:, :].copy()\n",
        "\n",
        "# 1.3. Including the different quotient in the new dataframe:\n",
        "soil_process[\"strain_diff\"] = diff_quot\n",
        "\n",
        "# 2. Computing Pearson corr of strain and the diff. quotient of strain:\n",
        "#       We can use pandas dataframe method `.corr`.\n",
        "pearson_corr_df = soil_process.loc[:, [\"strain\", \"strain_diff\"]].corr(\n",
        "    method= \"pearson\"\n",
        ")\n",
        "print(\"Pearson Correlation Data Frame\")\n",
        "print(\"-\" *len(\"Pearson Correlation Data Frame\"))\n",
        "display(pearson_corr_df)\n",
        "\n",
        "# 3. Computing Spearman corr of strain and the diff. quotient of strain:\n",
        "#       We can use pandas dataframe method `.corr`.\n",
        "spearman_corr_df = soil_process.loc[1:, [\"strain\", \"strain_diff\"]].corr(\n",
        "    method= \"spearman\"\n",
        ")\n",
        "print(\"\\nSpearman Correlation Data Frame\")\n",
        "print(\"-\" *len(\"Spearman Correlation Data Frame\"))\n",
        "display(spearman_corr_df)"
      ],
      "metadata": {
        "colab": {
          "base_uri": "https://localhost:8080/",
          "height": 294
        },
        "cellView": "form",
        "id": "vkLQKDU1t1PU",
        "outputId": "04f8c69a-63fd-4166-ac72-f5b6494a1ed5"
      },
      "execution_count": null,
      "outputs": [
        {
          "output_type": "stream",
          "name": "stdout",
          "text": [
            "Pearson Correlation Data Frame\n",
            "------------------------------\n"
          ]
        },
        {
          "output_type": "display_data",
          "data": {
            "text/plain": [
              "               strain  strain_diff\n",
              "strain       1.000000    -0.536875\n",
              "strain_diff -0.536875     1.000000"
            ],
            "text/html": [
              "\n",
              "  <div id=\"df-9fb63b01-2504-48a7-87b9-ce66f1bbf715\" class=\"colab-df-container\">\n",
              "    <div>\n",
              "<style scoped>\n",
              "    .dataframe tbody tr th:only-of-type {\n",
              "        vertical-align: middle;\n",
              "    }\n",
              "\n",
              "    .dataframe tbody tr th {\n",
              "        vertical-align: top;\n",
              "    }\n",
              "\n",
              "    .dataframe thead th {\n",
              "        text-align: right;\n",
              "    }\n",
              "</style>\n",
              "<table border=\"1\" class=\"dataframe\">\n",
              "  <thead>\n",
              "    <tr style=\"text-align: right;\">\n",
              "      <th></th>\n",
              "      <th>strain</th>\n",
              "      <th>strain_diff</th>\n",
              "    </tr>\n",
              "  </thead>\n",
              "  <tbody>\n",
              "    <tr>\n",
              "      <th>strain</th>\n",
              "      <td>1.000000</td>\n",
              "      <td>-0.536875</td>\n",
              "    </tr>\n",
              "    <tr>\n",
              "      <th>strain_diff</th>\n",
              "      <td>-0.536875</td>\n",
              "      <td>1.000000</td>\n",
              "    </tr>\n",
              "  </tbody>\n",
              "</table>\n",
              "</div>\n",
              "    <div class=\"colab-df-buttons\">\n",
              "\n",
              "  <div class=\"colab-df-container\">\n",
              "    <button class=\"colab-df-convert\" onclick=\"convertToInteractive('df-9fb63b01-2504-48a7-87b9-ce66f1bbf715')\"\n",
              "            title=\"Convert this dataframe to an interactive table.\"\n",
              "            style=\"display:none;\">\n",
              "\n",
              "  <svg xmlns=\"http://www.w3.org/2000/svg\" height=\"24px\" viewBox=\"0 -960 960 960\">\n",
              "    <path d=\"M120-120v-720h720v720H120Zm60-500h600v-160H180v160Zm220 220h160v-160H400v160Zm0 220h160v-160H400v160ZM180-400h160v-160H180v160Zm440 0h160v-160H620v160ZM180-180h160v-160H180v160Zm440 0h160v-160H620v160Z\"/>\n",
              "  </svg>\n",
              "    </button>\n",
              "\n",
              "  <style>\n",
              "    .colab-df-container {\n",
              "      display:flex;\n",
              "      gap: 12px;\n",
              "    }\n",
              "\n",
              "    .colab-df-convert {\n",
              "      background-color: #E8F0FE;\n",
              "      border: none;\n",
              "      border-radius: 50%;\n",
              "      cursor: pointer;\n",
              "      display: none;\n",
              "      fill: #1967D2;\n",
              "      height: 32px;\n",
              "      padding: 0 0 0 0;\n",
              "      width: 32px;\n",
              "    }\n",
              "\n",
              "    .colab-df-convert:hover {\n",
              "      background-color: #E2EBFA;\n",
              "      box-shadow: 0px 1px 2px rgba(60, 64, 67, 0.3), 0px 1px 3px 1px rgba(60, 64, 67, 0.15);\n",
              "      fill: #174EA6;\n",
              "    }\n",
              "\n",
              "    .colab-df-buttons div {\n",
              "      margin-bottom: 4px;\n",
              "    }\n",
              "\n",
              "    [theme=dark] .colab-df-convert {\n",
              "      background-color: #3B4455;\n",
              "      fill: #D2E3FC;\n",
              "    }\n",
              "\n",
              "    [theme=dark] .colab-df-convert:hover {\n",
              "      background-color: #434B5C;\n",
              "      box-shadow: 0px 1px 3px 1px rgba(0, 0, 0, 0.15);\n",
              "      filter: drop-shadow(0px 1px 2px rgba(0, 0, 0, 0.3));\n",
              "      fill: #FFFFFF;\n",
              "    }\n",
              "  </style>\n",
              "\n",
              "    <script>\n",
              "      const buttonEl =\n",
              "        document.querySelector('#df-9fb63b01-2504-48a7-87b9-ce66f1bbf715 button.colab-df-convert');\n",
              "      buttonEl.style.display =\n",
              "        google.colab.kernel.accessAllowed ? 'block' : 'none';\n",
              "\n",
              "      async function convertToInteractive(key) {\n",
              "        const element = document.querySelector('#df-9fb63b01-2504-48a7-87b9-ce66f1bbf715');\n",
              "        const dataTable =\n",
              "          await google.colab.kernel.invokeFunction('convertToInteractive',\n",
              "                                                    [key], {});\n",
              "        if (!dataTable) return;\n",
              "\n",
              "        const docLinkHtml = 'Like what you see? Visit the ' +\n",
              "          '<a target=\"_blank\" href=https://colab.research.google.com/notebooks/data_table.ipynb>data table notebook</a>'\n",
              "          + ' to learn more about interactive tables.';\n",
              "        element.innerHTML = '';\n",
              "        dataTable['output_type'] = 'display_data';\n",
              "        await google.colab.output.renderOutput(dataTable, element);\n",
              "        const docLink = document.createElement('div');\n",
              "        docLink.innerHTML = docLinkHtml;\n",
              "        element.appendChild(docLink);\n",
              "      }\n",
              "    </script>\n",
              "  </div>\n",
              "\n",
              "\n",
              "<div id=\"df-5fd83db3-608f-49b0-8951-8f24cf54a4b1\">\n",
              "  <button class=\"colab-df-quickchart\" onclick=\"quickchart('df-5fd83db3-608f-49b0-8951-8f24cf54a4b1')\"\n",
              "            title=\"Suggest charts\"\n",
              "            style=\"display:none;\">\n",
              "\n",
              "<svg xmlns=\"http://www.w3.org/2000/svg\" height=\"24px\"viewBox=\"0 0 24 24\"\n",
              "     width=\"24px\">\n",
              "    <g>\n",
              "        <path d=\"M19 3H5c-1.1 0-2 .9-2 2v14c0 1.1.9 2 2 2h14c1.1 0 2-.9 2-2V5c0-1.1-.9-2-2-2zM9 17H7v-7h2v7zm4 0h-2V7h2v10zm4 0h-2v-4h2v4z\"/>\n",
              "    </g>\n",
              "</svg>\n",
              "  </button>\n",
              "\n",
              "<style>\n",
              "  .colab-df-quickchart {\n",
              "      --bg-color: #E8F0FE;\n",
              "      --fill-color: #1967D2;\n",
              "      --hover-bg-color: #E2EBFA;\n",
              "      --hover-fill-color: #174EA6;\n",
              "      --disabled-fill-color: #AAA;\n",
              "      --disabled-bg-color: #DDD;\n",
              "  }\n",
              "\n",
              "  [theme=dark] .colab-df-quickchart {\n",
              "      --bg-color: #3B4455;\n",
              "      --fill-color: #D2E3FC;\n",
              "      --hover-bg-color: #434B5C;\n",
              "      --hover-fill-color: #FFFFFF;\n",
              "      --disabled-bg-color: #3B4455;\n",
              "      --disabled-fill-color: #666;\n",
              "  }\n",
              "\n",
              "  .colab-df-quickchart {\n",
              "    background-color: var(--bg-color);\n",
              "    border: none;\n",
              "    border-radius: 50%;\n",
              "    cursor: pointer;\n",
              "    display: none;\n",
              "    fill: var(--fill-color);\n",
              "    height: 32px;\n",
              "    padding: 0;\n",
              "    width: 32px;\n",
              "  }\n",
              "\n",
              "  .colab-df-quickchart:hover {\n",
              "    background-color: var(--hover-bg-color);\n",
              "    box-shadow: 0 1px 2px rgba(60, 64, 67, 0.3), 0 1px 3px 1px rgba(60, 64, 67, 0.15);\n",
              "    fill: var(--button-hover-fill-color);\n",
              "  }\n",
              "\n",
              "  .colab-df-quickchart-complete:disabled,\n",
              "  .colab-df-quickchart-complete:disabled:hover {\n",
              "    background-color: var(--disabled-bg-color);\n",
              "    fill: var(--disabled-fill-color);\n",
              "    box-shadow: none;\n",
              "  }\n",
              "\n",
              "  .colab-df-spinner {\n",
              "    border: 2px solid var(--fill-color);\n",
              "    border-color: transparent;\n",
              "    border-bottom-color: var(--fill-color);\n",
              "    animation:\n",
              "      spin 1s steps(1) infinite;\n",
              "  }\n",
              "\n",
              "  @keyframes spin {\n",
              "    0% {\n",
              "      border-color: transparent;\n",
              "      border-bottom-color: var(--fill-color);\n",
              "      border-left-color: var(--fill-color);\n",
              "    }\n",
              "    20% {\n",
              "      border-color: transparent;\n",
              "      border-left-color: var(--fill-color);\n",
              "      border-top-color: var(--fill-color);\n",
              "    }\n",
              "    30% {\n",
              "      border-color: transparent;\n",
              "      border-left-color: var(--fill-color);\n",
              "      border-top-color: var(--fill-color);\n",
              "      border-right-color: var(--fill-color);\n",
              "    }\n",
              "    40% {\n",
              "      border-color: transparent;\n",
              "      border-right-color: var(--fill-color);\n",
              "      border-top-color: var(--fill-color);\n",
              "    }\n",
              "    60% {\n",
              "      border-color: transparent;\n",
              "      border-right-color: var(--fill-color);\n",
              "    }\n",
              "    80% {\n",
              "      border-color: transparent;\n",
              "      border-right-color: var(--fill-color);\n",
              "      border-bottom-color: var(--fill-color);\n",
              "    }\n",
              "    90% {\n",
              "      border-color: transparent;\n",
              "      border-bottom-color: var(--fill-color);\n",
              "    }\n",
              "  }\n",
              "</style>\n",
              "\n",
              "  <script>\n",
              "    async function quickchart(key) {\n",
              "      const quickchartButtonEl =\n",
              "        document.querySelector('#' + key + ' button');\n",
              "      quickchartButtonEl.disabled = true;  // To prevent multiple clicks.\n",
              "      quickchartButtonEl.classList.add('colab-df-spinner');\n",
              "      try {\n",
              "        const charts = await google.colab.kernel.invokeFunction(\n",
              "            'suggestCharts', [key], {});\n",
              "      } catch (error) {\n",
              "        console.error('Error during call to suggestCharts:', error);\n",
              "      }\n",
              "      quickchartButtonEl.classList.remove('colab-df-spinner');\n",
              "      quickchartButtonEl.classList.add('colab-df-quickchart-complete');\n",
              "    }\n",
              "    (() => {\n",
              "      let quickchartButtonEl =\n",
              "        document.querySelector('#df-5fd83db3-608f-49b0-8951-8f24cf54a4b1 button');\n",
              "      quickchartButtonEl.style.display =\n",
              "        google.colab.kernel.accessAllowed ? 'block' : 'none';\n",
              "    })();\n",
              "  </script>\n",
              "</div>\n",
              "    </div>\n",
              "  </div>\n"
            ]
          },
          "metadata": {}
        },
        {
          "output_type": "stream",
          "name": "stdout",
          "text": [
            "\n",
            "Spearman Correlation Data Frame\n",
            "-------------------------------\n"
          ]
        },
        {
          "output_type": "display_data",
          "data": {
            "text/plain": [
              "              strain  strain_diff\n",
              "strain       1.00000     -0.99812\n",
              "strain_diff -0.99812      1.00000"
            ],
            "text/html": [
              "\n",
              "  <div id=\"df-0d77f2ed-c6b1-42ee-a47b-1e694e50a9ca\" class=\"colab-df-container\">\n",
              "    <div>\n",
              "<style scoped>\n",
              "    .dataframe tbody tr th:only-of-type {\n",
              "        vertical-align: middle;\n",
              "    }\n",
              "\n",
              "    .dataframe tbody tr th {\n",
              "        vertical-align: top;\n",
              "    }\n",
              "\n",
              "    .dataframe thead th {\n",
              "        text-align: right;\n",
              "    }\n",
              "</style>\n",
              "<table border=\"1\" class=\"dataframe\">\n",
              "  <thead>\n",
              "    <tr style=\"text-align: right;\">\n",
              "      <th></th>\n",
              "      <th>strain</th>\n",
              "      <th>strain_diff</th>\n",
              "    </tr>\n",
              "  </thead>\n",
              "  <tbody>\n",
              "    <tr>\n",
              "      <th>strain</th>\n",
              "      <td>1.00000</td>\n",
              "      <td>-0.99812</td>\n",
              "    </tr>\n",
              "    <tr>\n",
              "      <th>strain_diff</th>\n",
              "      <td>-0.99812</td>\n",
              "      <td>1.00000</td>\n",
              "    </tr>\n",
              "  </tbody>\n",
              "</table>\n",
              "</div>\n",
              "    <div class=\"colab-df-buttons\">\n",
              "\n",
              "  <div class=\"colab-df-container\">\n",
              "    <button class=\"colab-df-convert\" onclick=\"convertToInteractive('df-0d77f2ed-c6b1-42ee-a47b-1e694e50a9ca')\"\n",
              "            title=\"Convert this dataframe to an interactive table.\"\n",
              "            style=\"display:none;\">\n",
              "\n",
              "  <svg xmlns=\"http://www.w3.org/2000/svg\" height=\"24px\" viewBox=\"0 -960 960 960\">\n",
              "    <path d=\"M120-120v-720h720v720H120Zm60-500h600v-160H180v160Zm220 220h160v-160H400v160Zm0 220h160v-160H400v160ZM180-400h160v-160H180v160Zm440 0h160v-160H620v160ZM180-180h160v-160H180v160Zm440 0h160v-160H620v160Z\"/>\n",
              "  </svg>\n",
              "    </button>\n",
              "\n",
              "  <style>\n",
              "    .colab-df-container {\n",
              "      display:flex;\n",
              "      gap: 12px;\n",
              "    }\n",
              "\n",
              "    .colab-df-convert {\n",
              "      background-color: #E8F0FE;\n",
              "      border: none;\n",
              "      border-radius: 50%;\n",
              "      cursor: pointer;\n",
              "      display: none;\n",
              "      fill: #1967D2;\n",
              "      height: 32px;\n",
              "      padding: 0 0 0 0;\n",
              "      width: 32px;\n",
              "    }\n",
              "\n",
              "    .colab-df-convert:hover {\n",
              "      background-color: #E2EBFA;\n",
              "      box-shadow: 0px 1px 2px rgba(60, 64, 67, 0.3), 0px 1px 3px 1px rgba(60, 64, 67, 0.15);\n",
              "      fill: #174EA6;\n",
              "    }\n",
              "\n",
              "    .colab-df-buttons div {\n",
              "      margin-bottom: 4px;\n",
              "    }\n",
              "\n",
              "    [theme=dark] .colab-df-convert {\n",
              "      background-color: #3B4455;\n",
              "      fill: #D2E3FC;\n",
              "    }\n",
              "\n",
              "    [theme=dark] .colab-df-convert:hover {\n",
              "      background-color: #434B5C;\n",
              "      box-shadow: 0px 1px 3px 1px rgba(0, 0, 0, 0.15);\n",
              "      filter: drop-shadow(0px 1px 2px rgba(0, 0, 0, 0.3));\n",
              "      fill: #FFFFFF;\n",
              "    }\n",
              "  </style>\n",
              "\n",
              "    <script>\n",
              "      const buttonEl =\n",
              "        document.querySelector('#df-0d77f2ed-c6b1-42ee-a47b-1e694e50a9ca button.colab-df-convert');\n",
              "      buttonEl.style.display =\n",
              "        google.colab.kernel.accessAllowed ? 'block' : 'none';\n",
              "\n",
              "      async function convertToInteractive(key) {\n",
              "        const element = document.querySelector('#df-0d77f2ed-c6b1-42ee-a47b-1e694e50a9ca');\n",
              "        const dataTable =\n",
              "          await google.colab.kernel.invokeFunction('convertToInteractive',\n",
              "                                                    [key], {});\n",
              "        if (!dataTable) return;\n",
              "\n",
              "        const docLinkHtml = 'Like what you see? Visit the ' +\n",
              "          '<a target=\"_blank\" href=https://colab.research.google.com/notebooks/data_table.ipynb>data table notebook</a>'\n",
              "          + ' to learn more about interactive tables.';\n",
              "        element.innerHTML = '';\n",
              "        dataTable['output_type'] = 'display_data';\n",
              "        await google.colab.output.renderOutput(dataTable, element);\n",
              "        const docLink = document.createElement('div');\n",
              "        docLink.innerHTML = docLinkHtml;\n",
              "        element.appendChild(docLink);\n",
              "      }\n",
              "    </script>\n",
              "  </div>\n",
              "\n",
              "\n",
              "<div id=\"df-b1d0085b-53dd-4652-af4c-4cef75fe2252\">\n",
              "  <button class=\"colab-df-quickchart\" onclick=\"quickchart('df-b1d0085b-53dd-4652-af4c-4cef75fe2252')\"\n",
              "            title=\"Suggest charts\"\n",
              "            style=\"display:none;\">\n",
              "\n",
              "<svg xmlns=\"http://www.w3.org/2000/svg\" height=\"24px\"viewBox=\"0 0 24 24\"\n",
              "     width=\"24px\">\n",
              "    <g>\n",
              "        <path d=\"M19 3H5c-1.1 0-2 .9-2 2v14c0 1.1.9 2 2 2h14c1.1 0 2-.9 2-2V5c0-1.1-.9-2-2-2zM9 17H7v-7h2v7zm4 0h-2V7h2v10zm4 0h-2v-4h2v4z\"/>\n",
              "    </g>\n",
              "</svg>\n",
              "  </button>\n",
              "\n",
              "<style>\n",
              "  .colab-df-quickchart {\n",
              "      --bg-color: #E8F0FE;\n",
              "      --fill-color: #1967D2;\n",
              "      --hover-bg-color: #E2EBFA;\n",
              "      --hover-fill-color: #174EA6;\n",
              "      --disabled-fill-color: #AAA;\n",
              "      --disabled-bg-color: #DDD;\n",
              "  }\n",
              "\n",
              "  [theme=dark] .colab-df-quickchart {\n",
              "      --bg-color: #3B4455;\n",
              "      --fill-color: #D2E3FC;\n",
              "      --hover-bg-color: #434B5C;\n",
              "      --hover-fill-color: #FFFFFF;\n",
              "      --disabled-bg-color: #3B4455;\n",
              "      --disabled-fill-color: #666;\n",
              "  }\n",
              "\n",
              "  .colab-df-quickchart {\n",
              "    background-color: var(--bg-color);\n",
              "    border: none;\n",
              "    border-radius: 50%;\n",
              "    cursor: pointer;\n",
              "    display: none;\n",
              "    fill: var(--fill-color);\n",
              "    height: 32px;\n",
              "    padding: 0;\n",
              "    width: 32px;\n",
              "  }\n",
              "\n",
              "  .colab-df-quickchart:hover {\n",
              "    background-color: var(--hover-bg-color);\n",
              "    box-shadow: 0 1px 2px rgba(60, 64, 67, 0.3), 0 1px 3px 1px rgba(60, 64, 67, 0.15);\n",
              "    fill: var(--button-hover-fill-color);\n",
              "  }\n",
              "\n",
              "  .colab-df-quickchart-complete:disabled,\n",
              "  .colab-df-quickchart-complete:disabled:hover {\n",
              "    background-color: var(--disabled-bg-color);\n",
              "    fill: var(--disabled-fill-color);\n",
              "    box-shadow: none;\n",
              "  }\n",
              "\n",
              "  .colab-df-spinner {\n",
              "    border: 2px solid var(--fill-color);\n",
              "    border-color: transparent;\n",
              "    border-bottom-color: var(--fill-color);\n",
              "    animation:\n",
              "      spin 1s steps(1) infinite;\n",
              "  }\n",
              "\n",
              "  @keyframes spin {\n",
              "    0% {\n",
              "      border-color: transparent;\n",
              "      border-bottom-color: var(--fill-color);\n",
              "      border-left-color: var(--fill-color);\n",
              "    }\n",
              "    20% {\n",
              "      border-color: transparent;\n",
              "      border-left-color: var(--fill-color);\n",
              "      border-top-color: var(--fill-color);\n",
              "    }\n",
              "    30% {\n",
              "      border-color: transparent;\n",
              "      border-left-color: var(--fill-color);\n",
              "      border-top-color: var(--fill-color);\n",
              "      border-right-color: var(--fill-color);\n",
              "    }\n",
              "    40% {\n",
              "      border-color: transparent;\n",
              "      border-right-color: var(--fill-color);\n",
              "      border-top-color: var(--fill-color);\n",
              "    }\n",
              "    60% {\n",
              "      border-color: transparent;\n",
              "      border-right-color: var(--fill-color);\n",
              "    }\n",
              "    80% {\n",
              "      border-color: transparent;\n",
              "      border-right-color: var(--fill-color);\n",
              "      border-bottom-color: var(--fill-color);\n",
              "    }\n",
              "    90% {\n",
              "      border-color: transparent;\n",
              "      border-bottom-color: var(--fill-color);\n",
              "    }\n",
              "  }\n",
              "</style>\n",
              "\n",
              "  <script>\n",
              "    async function quickchart(key) {\n",
              "      const quickchartButtonEl =\n",
              "        document.querySelector('#' + key + ' button');\n",
              "      quickchartButtonEl.disabled = true;  // To prevent multiple clicks.\n",
              "      quickchartButtonEl.classList.add('colab-df-spinner');\n",
              "      try {\n",
              "        const charts = await google.colab.kernel.invokeFunction(\n",
              "            'suggestCharts', [key], {});\n",
              "      } catch (error) {\n",
              "        console.error('Error during call to suggestCharts:', error);\n",
              "      }\n",
              "      quickchartButtonEl.classList.remove('colab-df-spinner');\n",
              "      quickchartButtonEl.classList.add('colab-df-quickchart-complete');\n",
              "    }\n",
              "    (() => {\n",
              "      let quickchartButtonEl =\n",
              "        document.querySelector('#df-b1d0085b-53dd-4652-af4c-4cef75fe2252 button');\n",
              "      quickchartButtonEl.style.display =\n",
              "        google.colab.kernel.accessAllowed ? 'block' : 'none';\n",
              "    })();\n",
              "  </script>\n",
              "</div>\n",
              "    </div>\n",
              "  </div>\n"
            ]
          },
          "metadata": {}
        }
      ]
    },
    {
      "cell_type": "markdown",
      "source": [
        "The computation shows a significant negative linear relationship between $\\varepsilon\\big|_{\\tilde{T}_1}$ and $\\frac{\\Delta \\varepsilon}{\\Delta t}$ and a very strong negative monotonic relationship between the two. Therefore, we conclude\n",
        "\\begin{equation}\n",
        "    \\frac{\\Delta \\varepsilon}{\\Delta t} \\propto -\\varepsilon \\big|_{\\tilde{T}_1}\n",
        "    \\,.\n",
        "\\end{equation}"
      ],
      "metadata": {
        "id": "up1Z8Ka4zPse"
      }
    },
    {
      "cell_type": "markdown",
      "source": [
        "#### **3.2.2. Informal Analysis**"
      ],
      "metadata": {
        "id": "L3pH5A5uzk9I"
      }
    },
    {
      "cell_type": "markdown",
      "source": [
        "For a complementation to the statistical analysis, let us visualize the graph of both $\\varepsilon \\big|_{\\tilde{T}_0}$ and $\\frac{\\Delta \\varepsilon}{\\Delta t}$."
      ],
      "metadata": {
        "id": "vkZ6U0b0z1xI"
      }
    },
    {
      "cell_type": "code",
      "source": [
        "#@title ##### Graphs of $\\varepsilon \\big|_{\\tilde{T}_0}$ and $\\frac{\\Delta \\varepsilon}{\\Delta t}$\n",
        "\n",
        "def visualize_strain_diff():\n",
        "    df = soil_process.copy()\n",
        "    df[\"strain\"] = -1 *df[\"strain\"]\n",
        "    cols = list(df.columns)\n",
        "    cols[1] = \"neg_strain\"\n",
        "    df.columns = cols\n",
        "    with matplotlib.style.context(\"seaborn-v0_8\", after_reset= True):\n",
        "        corr_fig, corr_axs = plt.subplots(\n",
        "            nrows= 1, ncols= 2, figsize= (12, 4)\n",
        "        )\n",
        "        corr_fig = df.plot(\n",
        "            x= \"time\", y= \"neg_strain\",\n",
        "            xlabel= r\"Time, $t$ (min)\", ylabel= r\"Strain (%)\",\n",
        "            label= r\"$-\\varepsilon$\", marker= \"s\",\n",
        "            color= plt.cm.cool(0.2),\n",
        "            ax= corr_axs[0]\n",
        "        )\n",
        "        corr_fig = df.plot(\n",
        "            x= \"time\", y= \"strain_diff\",\n",
        "            xlabel= r\"Time, $t$ (min)\", ylabel= r\"Strain (%)\",\n",
        "            label= r\"$\\frac{\\Delta \\varepsilon}{\\Delta t}$\",\n",
        "            color= plt.cm.cool(0.8), marker= \"^\",\n",
        "            ax= corr_axs[1]\n",
        "        )\n",
        "\n",
        "        corr_fig = plt.show()\n",
        "\n",
        "visualize_strain_diff()"
      ],
      "metadata": {
        "colab": {
          "base_uri": "https://localhost:8080/",
          "height": 395
        },
        "cellView": "form",
        "id": "FvDO4ot10Emu",
        "outputId": "149daa0f-4848-4e12-f3ab-221a1da9fd2d"
      },
      "execution_count": null,
      "outputs": [
        {
          "output_type": "display_data",
          "data": {
            "text/plain": [
              "<Figure size 1200x400 with 2 Axes>"
            ],
            "image/png": "[encoded data removed]"
          },
          "metadata": {}
        }
      ]
    },
    {
      "cell_type": "markdown",
      "source": [
        "The plots above informally indicate a similarity between $-\\varepsilon\\big|_{\\tilde{T}_1}$ and $\\frac{\\Delta \\varepsilon}{\\Delta t}$."
      ],
      "metadata": {
        "id": "0gSDGZXr7lmk"
      }
    },
    {
      "cell_type": "markdown",
      "source": [
        "## **4. Modeling of Soil Strain**"
      ],
      "metadata": {
        "id": "-tAKEQ1W794f"
      }
    },
    {
      "cell_type": "markdown",
      "source": [
        "The main goal of this research is to find an appropriate model for $\\varepsilon$. Based on the latest result\n",
        "\\begin{equation}\n",
        "    \\frac{\\Delta \\varepsilon}{\\Delta t} \\propto -\\varepsilon \\big|_{\\tilde{T}_0} \\,,\n",
        "\\end{equation}\n",
        "we decide to assume that $\\frac{\\mathrm{d} \\varepsilon}{\\mathrm{d}t} \\propto -\\varepsilon$. Hence we propose a differential equation (Kreyszig, 2012)\n",
        "\\begin{equation}\n",
        "    \\frac{\\mathrm{d} \\varepsilon}{\\mathrm{d} t}\n",
        "    = a - \\beta \\varepsilon\n",
        "\\end{equation}\n",
        "as a implication of $\\frac{\\mathrm{d} \\varepsilon}{\\mathrm{d}t} \\propto -\\varepsilon$, where $a, \\beta \\in \\mathbb{R}$ are some unknown constants such that $\\beta \\neq 0$. It is, therefore, $\\varepsilon$ is designated to be a differentiable function."
      ],
      "metadata": {
        "id": "UAWjiD4J8B5B"
      }
    },
    {
      "cell_type": "markdown",
      "source": [
        "### **4.1. General Solution**"
      ],
      "metadata": {
        "id": "j-VbrJwg-i72"
      }
    },
    {
      "cell_type": "markdown",
      "source": [
        "The differential equation of $\\varepsilon$ is a separable ODE (Kreysiz, 2012). We solve the equation as follows:\n",
        "\\begin{align}\n",
        "    \\frac{\\mathrm{d} \\varepsilon}{a - \\beta \\varepsilon}\n",
        "    &= \\mathrm{d} t \\\\\n",
        "    \\therefore\n",
        "    \\int \\frac{\\mathrm{d} \\varepsilon}{a - \\beta \\varepsilon}\n",
        "    &= \\int \\mathrm{d} t \\\\\n",
        "    \\therefore\n",
        "    -\\frac{1}{\\beta} \\int \\frac{\\mathrm{d} g}{g}\n",
        "    &= t + C_1 \\\\\n",
        "    \\therefore\n",
        "    -\\frac{ \\ln{|g|} }{\\beta}\n",
        "    &= t + C_1 \\\\\n",
        "    \\therefore\n",
        "    \\ln{|g|}\n",
        "    &= -\\beta t + C_2 \\\\\n",
        "    \\therefore\n",
        "    g &= C_3 e^{-\\beta t} \\\\\n",
        "    \\therefore\n",
        "    a - \\beta \\varepsilon &= C_3 e^{-\\beta t} \\\\\n",
        "    \\therefore\n",
        "    \\varepsilon &= \\frac{a}{\\beta} - C e^{-\\beta t} \\\\\n",
        "    &:= \\alpha - C e^{-\\beta t}\n",
        "\\end{align}\n",
        "Hence the general solution is given by\n",
        "\\begin{equation}\n",
        "    \\forall t \\in T :\\;\n",
        "    \\varepsilon(t) = \\alpha - C e^{-\\beta t}\n",
        "\\end{equation}\n",
        "with $\\alpha, \\beta, C \\in \\mathbb{R}$, for every $t \\in T$."
      ],
      "metadata": {
        "id": "TPO4vZig-lQR"
      }
    },
    {
      "cell_type": "markdown",
      "source": [
        "### **4.2. Particular Solution**"
      ],
      "metadata": {
        "id": "BiB-t9u3Aihf"
      }
    },
    {
      "cell_type": "markdown",
      "source": [
        "A set of boundary conditions is given in order to obtain a particular solution. Generally the schema of the boundary condition with respect to the nature of the data is given as follows:\n",
        "1. $\\varepsilon(0) = 0$\n",
        "2. $\\lim_{t \\to \\infty} \\varepsilon(t) < \\infty$\n",
        "\n",
        "Condition 2 is designated based on the graph of $\\varepsilon$ on its original domain as well as the $\\log(t)$ domain.\n",
        "\n",
        "Now we need to solve $\\alpha, \\beta, C$ from the general solution. Follows from condition 1, we obtain\n",
        "\\begin{equation}\n",
        "    0 = \\varepsilon(0) = \\alpha - C e^{-\\beta \\cdot 0} = \\alpha - C\n",
        "\\end{equation}\n",
        "which shows that $C = \\alpha$. Hence, the updated particular solution is given by\n",
        "\\begin{equation}\n",
        "    \\forall t \\in T :\\;\n",
        "    \\varepsilon(t) = \\alpha \\left( 1 - e^{-\\beta t} \\right) \\,.\n",
        "\\end{equation}\n",
        "\n",
        "Follows from condition 2, we obtain\n",
        "\\begin{equation}\n",
        "    \\lim_{t \\to \\infty} \\varepsilon(t)\n",
        "    = \\lim_{t \\to \\infty} \\alpha \\left(1 - e^{-\\beta t} \\right)\n",
        "    = \\lim_{t \\to \\infty} \\alpha \\left(1 - \\frac{1}{e^{\\beta t}} \\right)\n",
        "    = \\alpha (1 - 0)\n",
        "    = \\alpha \\,,\n",
        "\\end{equation}\n",
        "which shows that $\\varepsilon$ converges to $\\alpha$. We can use this property to determine $\\beta$ by designating the value of $\\alpha$.An approach to determine $\\alpha$ can be from\n",
        "\\begin{equation}\n",
        "    \\alpha := \\max_{t \\in \\tilde{T}_1} \\varepsilon(t) + \\delta \\,,\n",
        "\\end{equation}\n",
        "where $\\delta > 0$ is a considerably small number to be estimated. The expression\n",
        "\\begin{equation}\n",
        "    \\beta = \\ln{ \\left( \\frac{\\alpha}{\\alpha -\\varepsilon(t)} \\right)^\\frac{1}{t} }\n",
        "\\end{equation}\n",
        "gives us $\\beta$.\n",
        "\n",
        "Any given value of $t \\in T$ will give us a value of $\\beta$. And there are finitely many such $t \\in \\tilde{T}$. However, we are almost certain that different $t \\in \\tilde{T}$ will give a different result of $\\beta$ due to data imperfection as well as randomness factor. With the $\\beta$ that we obtain using this strategy, we can say that our resulting function is an approximation $\\hat{\\varepsilon}: T \\to \\mathbb{R}$ instead of the precise $\\varepsilon$. The best that we can obtain is some $\\beta$ such that the difference between $\\varepsilon$ and $\\hat{\\varepsilon}$ is minimized. We will employ the so-called $\\rho$-reliability criterion [(Purnawan, 2023)](http://dx.doi.org/10.20944/preprints202310.1770.v1).\n",
        "\n",
        "We designate that $\\hat{\\varepsilon}$ has to be a $\\rho$-reliable model for $\\varepsilon$, i. e., there exists some small $\\rho > 0$ such that\n",
        "\\begin{equation}\n",
        "    \\Big\\| \\varepsilon\\big|_{\\tilde{T}} -\\hat{\\varepsilon} \\Big\\|_{2: \\varepsilon |_{\\tilde{T}} -\\mathrm{E}[\\varepsilon |_{\\tilde{T}}]}^2\n",
        "    < \\rho \\,,\n",
        "\\end{equation}\n",
        "where $\\|\\cdot\\|_{2:r}$ denotes the $r$-norm [(Purnawan, 2023)](http://dx.doi.org/10.20944/preprints202310.1770.v1)."
      ],
      "metadata": {
        "id": "UqRSQ51PAvGU"
      }
    },
    {
      "cell_type": "markdown",
      "source": [
        "### **4.3. Optimization**"
      ],
      "metadata": {
        "id": "-do5VNdMGxyq"
      }
    },
    {
      "cell_type": "markdown",
      "source": [
        "Follows from the expression of $\\beta$ from the earlier section, we can say that there is a map $t \\mapsto \\beta$ on $\\tilde{T}_0$. Then there is also a map\n",
        "\\begin{equation}\n",
        "    \\nu: \\beta \\mapsto \\Big\\| \\varepsilon\\big|_{\\tilde{T}} -\\hat{\\varepsilon}_\\beta \\Big\\|_{2: \\varepsilon\\big|_{\\tilde{T}} -\\mathrm{E}[\\varepsilon |_{\\tilde{T}}]}^2 \\,.\n",
        "\\end{equation}\n",
        "The expression $\\hat{\\varepsilon}_\\beta$ denotes a $\\hat{\\varepsilon}$ from a certain value of $\\beta$.\n",
        "Suppose the set $\\mathcal{B}$ is all possible values of $\\beta$. Then the map $\\nu$ can be rewritten into\n",
        "$\\nu: \\mathcal{B} \\to \\mathbb{R}$ and is defined by\n",
        "\\begin{equation}\n",
        "    \\forall \\beta \\in \\mathcal{B} :\\;\n",
        "    \\nu(\\beta) := \\Big\\| \\varepsilon\\big|_{\\tilde{T}} -\\hat{\\varepsilon}_\\beta \\Big\\|_{2: \\varepsilon |_{\\tilde{T}} -\\mathrm{E}[\\varepsilon |_{\\tilde{T}}]}^2 \\,.\n",
        "\\end{equation}\n",
        "Note that $\\mathrm{image}(\\nu) \\subset [0, \\infty)$. The desired $\\beta$ would be the one\n",
        "\\begin{equation}\n",
        "    \\underset{\\beta \\in \\mathcal{B}}{\\arg \\inf} \\;\\nu(\\beta) \\,.\n",
        "\\end{equation}\n",
        "However, we cannot be certain whether this kind of $\\beta$ is attainable."
      ],
      "metadata": {
        "id": "vFQ9aszrG4N0"
      }
    },
    {
      "cell_type": "markdown",
      "source": [
        "#### **4.3.1. Optimization from the Data**"
      ],
      "metadata": {
        "id": "AOF4NHI4KWMx"
      }
    },
    {
      "cell_type": "markdown",
      "source": [
        "Our first approach will be getting $\\beta$ from the available data. Suppose $\\mathcal{B}_d \\subset \\mathcal{B}$ such that $\\mathcal{B}_d$ is the family of such $\\beta$ that we directly obtain from the data. Our first step will be determining\n",
        "\\begin{equation}\n",
        "    \\beta_d := \\underset{\\beta \\in \\mathcal{B}_d}{\\arg \\min} \\;\\nu(\\beta) \\,.\n",
        "\\end{equation}\n",
        "\n",
        "The computation of $\\beta_d$ is conducted in the following cell:"
      ],
      "metadata": {
        "id": "Z4qAu3eyKpOX"
      }
    },
    {
      "cell_type": "code",
      "source": [
        "#@title ##### Computing $\\beta_d$\n",
        "\n",
        "# Necessary functions for computing beta:\n",
        "def compute_beta(t, epsilon, alpha):\n",
        "    ln = np.log     # <-- Numpy function of ln\n",
        "    return (1/t) *ln(alpha / (alpha - epsilon))\n",
        "\n",
        "def epsilon(t, alpha, beta):\n",
        "    e = np.e\n",
        "    return alpha *(1 - e**(-beta *t))\n",
        "\n",
        "def r_norm2(Y, Y_hat):\n",
        "    EY = [np.mean(Y)] *len(Y)\n",
        "    return (\n",
        "        sum([(a - b)**2 for a, b in zip(Y, Y_hat)])\n",
        "        / sum([(a - b)**2 for a, b in zip(Y, EY)])\n",
        "    )\n",
        "\n",
        "def find_beta_from_data(delta, complete_output= False):\n",
        "    dat = soil_process.copy()\n",
        "    alpha = max([a + delta for a in dat[\"strain\"]])\n",
        "    Bd = [\n",
        "        compute_beta(t, eps, alpha)\n",
        "        for t, eps in zip(list(dat[\"time\"]), list(dat[\"strain\"]))\n",
        "        ]\n",
        "    squared_rnorm = [\n",
        "        r_norm2(\n",
        "            list(dat[\"strain\"]),\n",
        "            [epsilon(t, alpha, b) for t in dat[\"time\"]]\n",
        "            )\n",
        "        for b in Bd\n",
        "    ]\n",
        "    rnorm2_Bd = dict(zip(squared_rnorm, Bd))\n",
        "    beta_d = rnorm2_Bd[min(squared_rnorm)]\n",
        "    if complete_output == True:\n",
        "        Bd_df = pd.DataFrame({\"beta\": Bd, \"nu\": squared_rnorm})\n",
        "        return Bd_df\n",
        "    else:\n",
        "        return beta_d, min(squared_rnorm)\n",
        "\n",
        "# Computation of beta from data:\n",
        "delta = 10**(-8)\n",
        "beta_d = find_beta_from_data(delta)[0]\n",
        "least_rnorm2_data = find_beta_from_data(delta)[1]\n",
        "nu_df = find_beta_from_data(delta, complete_output= True)\n",
        "\n",
        "print(\"Computational Result\")\n",
        "print(\"-\" *len(\"Computational Result\"))\n",
        "print(f\"beta_d = {round(beta_d, 6)}\")\n",
        "print(f\"r-norm = {round(least_rnorm2_data, 6)}\")\n",
        "print(\"\\n\")\n",
        "\n",
        "with matplotlib.style.context(\"seaborn-v0_8-dark\", after_reset= True):\n",
        "    nu_fig, nu_ax = plt.subplots(nrows= 1, ncols= 1)\n",
        "    nu_fig = nu_df.plot(\n",
        "        x= \"beta\", y= \"nu\",\n",
        "        xlabel= r\"$\\beta$\",\n",
        "        marker= \"s\", label= r\"$\\nu: \\mathcal{B} \\to \\mathbb{R}$\",\n",
        "        color= plt.cm.cool(0.5), ax= nu_ax\n",
        "    )\n",
        "    nu_ax.plot(\n",
        "        nu_df[\"beta\"], [least_rnorm2_data] *len(nu_df),\n",
        "        label= r\"$\\min_{\\beta \\in \\mathcal{B}}{\\;\\nu(\\beta)}$\",\n",
        "        color= plt.cm.cool(0.95)\n",
        "        )\n",
        "    nu_fig = plt.title(\n",
        "        r\"Graph of function $\\nu: \\mathcal{B} \\to \\mathbb{R}$\",\n",
        "        pad= 12\n",
        "    )\n",
        "    nu_fig = plt.legend()\n",
        "    nu_fig = plt.show()"
      ],
      "metadata": {
        "cellView": "form",
        "id": "69lGCC1uLUO3",
        "colab": {
          "base_uri": "https://localhost:8080/",
          "height": 583
        },
        "outputId": "641b84b1-d7d7-4964-ccb7-97af47ed490b"
      },
      "execution_count": null,
      "outputs": [
        {
          "output_type": "stream",
          "name": "stdout",
          "text": [
            "Computational Result\n",
            "--------------------\n",
            "beta_d = 0.004829\n",
            "r-norm = 0.015801\n",
            "\n",
            "\n"
          ]
        },
        {
          "output_type": "display_data",
          "data": {
            "text/plain": [
              "<Figure size 640x480 with 1 Axes>"
            ],
            "image/png": "[encoded data removed]"
          },
          "metadata": {}
        }
      ]
    },
    {
      "cell_type": "markdown",
      "source": [
        "From the result above, we have that our model $\\hat{\\varepsilon}$ is 0.016-reliable with respect to $\\varepsilon$, which is quite accurate from a numerical perspective. Let us try further improve the accuracy."
      ],
      "metadata": {
        "id": "wxxmwV_9_yOu"
      }
    },
    {
      "cell_type": "markdown",
      "source": [
        "#### **4.3.2. Convex-Inspired Optimization**"
      ],
      "metadata": {
        "id": "lVK7gp9tCqWw"
      }
    },
    {
      "cell_type": "markdown",
      "source": [
        "In the corresponding paper of this research [(Hirwo and Purnawan, 2023)](http://dx.doi.org/10.13140/RG.2.2.21197.61928), we have shown that closed-form analytic solutions cannot be obtained. We have also shown that $\\nu$ forms a convex function on a neighbourhood of $\\beta_d$. Convexity asserts that the function has a global minimum. We will reiterate the convexity of $\\nu$ on a neighbourhood of $\\beta_d$. But, instead of working on an analytic optimization, which impossible, we will work on the numeric optimization.\n",
        "\n",
        "It is deisgnated that there exist some $r > 0$ such that $\\nu\\big|_{B_r(\\beta_d)}: B_r(\\beta_d) \\to \\mathbb{R}$ is convex, where $B_r(\\beta_d)$ denotes an open ball of radius $r > 0$ centred at $\\beta_d$ with respect to the standard metric space $(\\mathbb{R}, d)$ on $\\mathbb{R} \\supset \\mathcal{B}$, i. e.,\n",
        "\\begin{equation}\n",
        "    B_r(\\beta_d) = \\{ b \\in \\mathcal{B} \\mid d(b, \\beta_d) < r \\} \\,,\n",
        "\\end{equation}\n",
        "which is also an open neighbourhood of $\\beta_d$. By convexity, $\\nu\\big|_{B_r(\\beta_d)}$ has a global minimum. However, no analytic solutions can be obtained. Therefore, we turn to numeric solution.\n",
        "\n",
        "Now let $S \\subset B_r(\\beta_d)$ such that $|S| < \\infty$. Now we need to seek some $\\beta_s \\in S$ such that\n",
        "\\begin{equation}\n",
        "    \\nu(\\beta_s) = \\min_{b \\in S}{\\nu(b)} \\,.\n",
        "\\end{equation}\n",
        "This $\\beta_s$ should be an optimized $\\beta$ satisfying\n",
        "\\begin{equation}\n",
        "    \\nu(\\beta_s) \\leq \\nu(\\beta_d) \\,.\n",
        "\\end{equation}\n",
        "In particular, we define $S$ by\n",
        "\\begin{equation}\n",
        "    S := \\{ b \\in B_r(\\beta_d) \\mid \\exists k \\in \\mathbb{N}[b = \\inf{B_r(\\beta_d) + ks}] \\}\n",
        "\\end{equation}\n",
        "for some small increment $s > 0$.\n",
        "\n",
        "We compute $\\beta_s$ in the following cell."
      ],
      "metadata": {
        "id": "-fBiMKI_Cyex"
      }
    },
    {
      "cell_type": "code",
      "source": [
        "#@title ##### Computing $\\beta_s$\n",
        "\n",
        "# Algorithm for computing nu:\n",
        "def nu(b, delta= 10**(-8)):\n",
        "    epsilon = list(soil_process[\"strain\"])\n",
        "    alpha = soil_process[\"strain\"].max() + delta\n",
        "    eps_hat = [alpha *(1 - np.e**(-b *t)) for t in soil_process[\"time\"]]\n",
        "    return r_norm2(epsilon, eps_hat)\n",
        "\n",
        "# Algorithm for computing beta_s:\n",
        "def compute_beta_s(beta_d, r, s, complete_output= False):\n",
        "    inf_Br = max(beta_d - r, 0)     # <-- infimum of Br(beta_d)\n",
        "    sup_Br = beta_d + r             # <-- supremum of Br(beta_d)\n",
        "\n",
        "    # Generating the set S according to the equation above:\n",
        "    S = list()\n",
        "    k = 0\n",
        "    while inf_Br + k *s <= sup_Br:\n",
        "        S.append(inf_Br + k *s)\n",
        "        k += 1\n",
        "\n",
        "    # Computing beta_s:\n",
        "    S_nu_pd = pd.DataFrame({\"S\": S, \"nu\": [nu(b) for b in S]})\n",
        "    S_nu_dic = {b: s for s, b in zip(S, [nu(b) for b in S])}\n",
        "    if complete_output == True:\n",
        "        return S_nu_pd\n",
        "    else:\n",
        "        return S_nu_dic[min(S_nu_dic.keys())], min(S_nu_dic.keys())\n",
        "\n",
        "beta_s, nu_s = compute_beta_s(\n",
        "    beta_d,     # <-- The result from previous computation\n",
        "    0.01,       # <-- r := 0.01\n",
        "    0.000001    # <-- s := 0.000001\n",
        ")\n",
        "\n",
        "# Displaying beta_s:\n",
        "print(\"Computational Result for beta_s\")\n",
        "print(\"-\" *len(\"Computational Result for beta_s\"))\n",
        "print(f\"beta_s = {beta_s}\")\n",
        "print(f\"nu_s = {round(nu_s, 5)}\\n\")\n",
        "\n",
        "# Displaying graph for beta_s optimization:\n",
        "beta_s_df = compute_beta_s(\n",
        "    beta_d,     # <-- The result from previous computation\n",
        "    0.01,       # <-- r := 0.01\n",
        "    0.000001,   # <-- s := 0.000001\n",
        "    complete_output= True\n",
        ")\n",
        "with matplotlib.style.context(\"seaborn-v0_8-dark\", after_reset= True):\n",
        "    beta_s_fig, beta_s_axs = plt.subplots(nrows= 1, ncols= 1)\n",
        "    beta_s_fig = beta_s_df.plot(\n",
        "        x= \"S\", y= \"nu\",\n",
        "        xlabel= r\"$\\beta \\in S$\",\n",
        "        label= r\"$\\nu |_{S}: S \\to \\mathbb{R}$\",\n",
        "        color= plt.cm.cool(0.6), ax= beta_s_axs\n",
        "        )\n",
        "    beta_s_axs.plot(\n",
        "        beta_s_df[\"S\"], [nu_s] *len(beta_s_df),\n",
        "        color= plt.cm.cool(0.95),\n",
        "        label= r\"$\\min_{b \\in S}{\\; \\nu(b)}$\"\n",
        "        )\n",
        "    beta_s_fig = plt.legend()\n",
        "    beta_s_fig = plt.title(r\"Optimization of $\\beta$\", pad= 12)\n",
        "    beta_s_fig = plt.show()"
      ],
      "metadata": {
        "colab": {
          "base_uri": "https://localhost:8080/",
          "height": 568
        },
        "cellView": "form",
        "id": "cSa4Lnw5Hxyy",
        "outputId": "4465de63-d1ae-4569-8cf7-4278d94751e3"
      },
      "execution_count": null,
      "outputs": [
        {
          "output_type": "stream",
          "name": "stdout",
          "text": [
            "Computational Result for beta_s\n",
            "-------------------------------\n",
            "beta_s = 0.00452\n",
            "nu_s = 0.01542\n",
            "\n"
          ]
        },
        {
          "output_type": "display_data",
          "data": {
            "text/plain": [
              "<Figure size 640x480 with 1 Axes>"
            ],
            "image/png": "[encoded data removed]"
          },
          "metadata": {}
        }
      ]
    },
    {
      "cell_type": "markdown",
      "source": [
        "The result above shows that our current $\\hat{\\varepsilon}$ is 0.0155-reliable with respect to $\\varepsilon$. It is approximately 0.001 better improvement compared to the earlier optimization. We will proceed with this result."
      ],
      "metadata": {
        "id": "-suyFtPMYPIv"
      }
    },
    {
      "cell_type": "markdown",
      "source": [
        "## **5. Result and Conclusion**"
      ],
      "metadata": {
        "id": "ekKaWh_FYu5d"
      }
    },
    {
      "cell_type": "markdown",
      "source": [
        "Based on the mathematical model we have formulated as well as the optimization on the model, we obtain a 0.0155-reliable model which is given by\n",
        "\\begin{equation}\n",
        "    \\forall t \\in T:\\;\n",
        "    \\hat{\\varepsilon}(t) = 29.73080001 \\big(1 - e^{-0.00452 t}\\big)\n",
        "    \\,.\n",
        "\\end{equation}\n",
        "The plot of the solution together with the original data is presented as follows."
      ],
      "metadata": {
        "id": "vwVSqpFyYy3A"
      }
    },
    {
      "cell_type": "code",
      "source": [
        "#@title ##### Plot of $\\hat{\\varepsilon}$\n",
        "\n",
        "# Function for computing epsilon_hat:\n",
        "def eps_hat(t):\n",
        "    alpha = soil_process[\"strain\"].max() + delta\n",
        "    beta = beta_s\n",
        "    return alpha *(1 -np.e**(-beta *t))\n",
        "\n",
        "soil_result = soil.copy()\n",
        "soil_result[\"strain_model\"] = [eps_hat(t) for t in soil_result[\"time\"]]\n",
        "\n",
        "with matplotlib.style.context(\"seaborn-v0_8-dark\", after_reset= True):\n",
        "    result_fig, result_axs = plt.subplots(nrows= 1, ncols= 2, figsize= (12, 4))\n",
        "    result_fig = soil_result.plot(\n",
        "        kind= \"scatter\",\n",
        "        x= \"time\", y= \"strain\",\n",
        "        xlabel= r\"Time, $t$ (min)\", ylabel= \"\",\n",
        "        label= r\"$\\varepsilon |_{\\tilde{T}}: \\tilde{T} \\to \\mathbb{R}$\",\n",
        "        color= plt.cm.cool(0.2), marker= \"s\",\n",
        "        ax= result_axs[0]\n",
        "    )\n",
        "    result_fig = soil_result.plot(\n",
        "        x= \"time\", y= \"strain_model\",\n",
        "        xlabel= r\"Time, $t$ (min)\", ylabel= \"\",\n",
        "        label= r\"$\\hat{\\varepsilon}: T \\to \\mathbb{R}$\",\n",
        "        color= plt.cm.cool(0.6),\n",
        "        ax= result_axs[0]\n",
        "    )\n",
        "    result_fig = soil_result.plot(\n",
        "        kind= \"scatter\",\n",
        "        x= \"time\", y= \"strain\",\n",
        "        xlabel= r\"Time, $t$ (min)\", ylabel= \"\",\n",
        "        label= r\"$\\varepsilon |_{\\tilde{T}}: \\tilde{T} \\to \\mathbb{R}$\",\n",
        "        color= plt.cm.cool(0.2), logx= True, marker= \"s\",\n",
        "        ax= result_axs[1]\n",
        "    )\n",
        "    result_fig = soil_result.plot(\n",
        "        x= \"time\", y= \"strain_model\",\n",
        "        xlabel= r\"Time, $t$ (min)\", ylabel= \"\",\n",
        "        label= r\"$\\hat{\\varepsilon}: T \\to \\mathbb{R}$\",\n",
        "        color= plt.cm.cool(0.6), logx= True,\n",
        "        ax= result_axs[1]\n",
        "    )\n",
        "    result_fig = plt.suptitle(r\"Soil Strain Model $\\hat{\\varepsilon}$\")\n",
        "    result_fig = plt.show()"
      ],
      "metadata": {
        "colab": {
          "base_uri": "https://localhost:8080/",
          "height": 432
        },
        "cellView": "form",
        "id": "jffbsXebZa2H",
        "outputId": "7831a654-5565-467b-a063-fd9dc0157fbd"
      },
      "execution_count": null,
      "outputs": [
        {
          "output_type": "display_data",
          "data": {
            "text/plain": [
              "<Figure size 1200x400 with 2 Axes>"
            ],
            "image/png": "[encoded data removed]"
          },
          "metadata": {}
        }
      ]
    },
    {
      "cell_type": "markdown",
      "source": [
        "The result shows that model gives a satisfactory result. The model may not precisely the same as the data, but it provides a desirable accuracy with a squared $r$-norm of 0.0154. Equivalently, the coefficient of determination of the model is given by\n",
        "\\begin{equation}\n",
        "    R^2 = 1 - \\big\\|\\varepsilon|_{\\tilde{T}} - \\hat{\\varepsilon}\\|_{2: \\varepsilon|_{\\tilde{T}} - \\mathrm{E}[\\varepsilon|_{\\tilde{T}}]}^2\n",
        "    = 1 - 0.0154\n",
        "    = 0.9846 \\,,\n",
        "\\end{equation}\n",
        "which also indicates a desirable result."
      ],
      "metadata": {
        "id": "z0sH6dEDeNVi"
      }
    },
    {
      "cell_type": "markdown",
      "source": [
        "## **Reference**"
      ],
      "metadata": {
        "id": "Jin-ehemfNRs"
      }
    },
    {
      "cell_type": "markdown",
      "source": [
        "Andre, Robert. (2020). *Point set topology with topics*. Author. University of Waterloo Department of Pure Mathematics.\n",
        "\n",
        "Bremaud, Pierre. (2020). *Probability Theory and Stochastic Processes*. Springer. DOI: https://doi.org/10.1007/978-3-030-40183-2\n",
        "\n",
        "Hirwo, N. and Purnawan, R. (2023) *A Numeric Optimization on a Semi-Analytic Model of Soil Swelling Potential*. Preprint. Research Gate. DOI: http://dx.doi.org/10.13140/RG.2.2.21197.61928\n",
        "\n",
        "Kreyszig, Erwin. (2012). *Advanced Engineering Mathematics*. Wiley.\n",
        "\n",
        "Purnawan, Rizal. (2023). *An Exploration on a Normed Space Called $r$-Normed Space: Some Properties and an Application*. MDPI preprint.org. DOI: http://dx.doi.org/10.20944/preprints202310.1770.v1\n",
        "\n",
        "Salamon, Dietmar A. (2016). *Measure and Integration*. European Mathematical Society. DOI: https://doi.org/10.4171/159\n",
        "\n",
        "Stoll, Robert R. (1979). *Set Theory and Logic*. Dover Publications.\n",
        "\n",
        "Villani, Alfonso. (1985). *Another Note on the Inclusion $L^q(\\mu) \\subset L^p(\\mu)$*. American Mathematical Monthly. Vol: 92, No: 7, pp: 485-487. DOI: https://doi.org/10.2307%2F2322503"
      ],
      "metadata": {
        "id": "HJXENfmpfQXk"
      }
    }
  ]
}