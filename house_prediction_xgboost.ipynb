{
 "cells": [
  {
   "cell_type": "markdown",
   "id": "842ca39b-4469-4cf0-817c-ed5c16044c40",
   "metadata": {},
   "source": [
    "# Machine Learning Model for \"House Prices - Advanced Regression Techniques\" Competition in Kaggle"
   ]
  },
  {
   "cell_type": "markdown",
   "id": "f2a762ce-0218-4651-9344-2a6e2ed262e2",
   "metadata": {},
   "source": [
    "Now we will create a machine learning model for the competition\n",
    "\"House Prices - Advanced Regression Techniques\" in Kaggle.\n",
    "The machine learning algorithm that we will use is the\n",
    "<b>extreme gradient boosting</b> provided by <i>xgboost</i> library."
   ]
  },
  {
   "cell_type": "markdown",
   "id": "d0a05947-f3c6-4d73-8499-563d028d0f86",
   "metadata": {},
   "source": [
    "## Data Setup"
   ]
  },
  {
   "cell_type": "code",
   "execution_count": 1,
   "id": "1d052a15-3ded-4c08-a1bd-116509dc463f",
   "metadata": {},
   "outputs": [],
   "source": [
    "# Libraries____________________________________________________________________\n",
    "\n",
    "# Pandas:\n",
    "import pandas as pd\n",
    "\n",
    "# Numpy:\n",
    "import numpy as np\n",
    "\n",
    "# Scikit Learn:\n",
    "from sklearn.metrics import mean_absolute_error\n",
    "from sklearn.model_selection import cross_val_score, train_test_split\n",
    "from sklearn.pipeline import Pipeline\n",
    "from sklearn.impute import SimpleImputer\n",
    "from sklearn.preprocessing import OneHotEncoder, StandardScaler\n",
    "from sklearn.compose import ColumnTransformer\n",
    "\n",
    "# XGBoost:\n",
    "from xgboost import XGBRegressor\n",
    "\n",
    "# Matplotlib:\n",
    "import matplotlib.pyplot as plt\n",
    "\n",
    "# Pickle:\n",
    "import pickle"
   ]
  },
  {
   "cell_type": "code",
   "execution_count": 2,
   "id": "7e51322e-a545-4846-900c-b7d3300e41c2",
   "metadata": {},
   "outputs": [],
   "source": [
    "# Dataset location in my local drive:\n",
    "data_local_dir = \"house-prices-advanced-regression-techniques/train.csv\"\n",
    "\n",
    "# Building a dataframe from the dataset:\n",
    "data = pd.read_csv(data_local_dir, index_col= \"Id\")"
   ]
  },
  {
   "cell_type": "markdown",
   "id": "f3523051-96da-4fc0-a5d5-57b8004bed94",
   "metadata": {},
   "source": [
    "## Preprocessing"
   ]
  },
  {
   "cell_type": "code",
   "execution_count": 3,
   "id": "e5d73f16-43a7-41bc-ac75-64debcba5a08",
   "metadata": {},
   "outputs": [],
   "source": [
    "# The columns in the dataframe:\n",
    "all_columns = list(data.columns)"
   ]
  },
  {
   "cell_type": "markdown",
   "id": "2134c062-a43d-44b5-87ca-936d22e68909",
   "metadata": {},
   "source": [
    "### Refining The Existing Data Based on the Data Description"
   ]
  },
  {
   "cell_type": "markdown",
   "id": "9557f9fb-20e1-40a2-924d-c3c3a198ce5f",
   "metadata": {},
   "source": [
    "In the dataset folder, we are given a text file that provides the information\n",
    "about the dataset. One insightful information is about several 'null' values\n",
    "in some categorical columns. It turns out that the 'null' values were\n",
    "intentional as it reflects somewhat data zero for the columns. Therefore, we\n",
    "replaced such 'null' values with strings to improve the model."
   ]
  },
  {
   "cell_type": "code",
   "execution_count": 4,
   "id": "47db0682-5f1e-4fa3-8951-44836a57586d",
   "metadata": {},
   "outputs": [],
   "source": [
    "# Now we refine the data based on the data description:\n",
    "\n",
    "data_ref = data.copy()\n",
    "\n",
    "# 1. Alley\n",
    "# Null values in Alley means \"no alley access\" based on the description.\n",
    "# Hence to prevent the computer to identify such values as missing values,\n",
    "# we impute the missing values with string \"NoAcc\"\n",
    "data_ref[\"Alley\"] = data_ref[\"Alley\"].fillna(\"NoAcc\")\n",
    "\n",
    "# 2. MasVnrType\n",
    "# In column MasVnrType, the missing values actually refer to inexistence of\n",
    "# masonry veneer type. Hence to prevent the computer to identify such values\n",
    "# as missing values, we impute the missing values with string \"Nothing\".\n",
    "data_ref[\"MasVnrType\"] = data_ref[\"MasVnrType\"].fillna(\"Nothing\")\n",
    "\n",
    "# 3. BsmtQual\n",
    "# In this column, missing values refer to the absence of basements. Hence\n",
    "# we need to impute the missing values with string \"NoBase\".\n",
    "data_ref[\"BsmtQual\"] = data_ref[\"BsmtQual\"].fillna(\"NoBase\")\n",
    "\n",
    "# 4. BsmtCond\n",
    "# In this column, missing values refer to the absence of basements.\n",
    "# Hence we impute the missing values with string \"NoBase\".\n",
    "data_ref[\"BsmtCond\"] = data_ref[\"BsmtCond\"].fillna(\"NoBase\")\n",
    "\n",
    "# 5. BsmtFinType1\n",
    "# In this column, missing values refer to the absence of basement.\n",
    "# Hence we impute the missing values with string \"NoBase\".\n",
    "data_ref[\"BsmtFinType1\"] = data_ref[\"BsmtFinType1\"].fillna(\"NoBase\")\n",
    "\n",
    "# 6. BsmtFinType2\n",
    "# In this column, missing values refer to the absence of basement.\n",
    "# Hence we impute the missing values with string \"NoBase\".\n",
    "data_ref[\"BsmtFinType2\"] = data_ref[\"BsmtFinType2\"].fillna(\"NoBase\")\n",
    "\n",
    "# 7. FireplaceQu\n",
    "# In this column, missing values refer to the absence of fire place.\n",
    "# Hence we impute the missing values with string \"NoFirePlace\".\n",
    "data_ref[\"FireplaceQu\"] = data_ref[\"FireplaceQu\"].fillna(\"NoFirePlace\")\n",
    "\n",
    "# 8. GarageType\n",
    "# In this column, missing values refer to the absence of garage.\n",
    "# Hence we impute the missing values with string \"NoGarage\".\n",
    "data_ref[\"GarageType\"] = data_ref[\"GarageType\"].fillna(\"NoGarage\")\n",
    "\n",
    "# 9. GarageFinish\n",
    "# In this column, missing values refer to the absence of garage.\n",
    "# Hence we impute the missing values with string \"NoGarage\".\n",
    "data_ref[\"GarageFinish\"] = data_ref[\"GarageFinish\"].fillna(\"NoGarage\")\n",
    "\n",
    "# 10. GarageQual\n",
    "# In this column, missing values refer to the absence of garage.\n",
    "# Hence we impute the missing values with string \"NoGarage\".\n",
    "data_ref[\"GarageQual\"] = data_ref[\"GarageQual\"].fillna(\"NoGarage\")\n",
    "\n",
    "# 11. GarageCond\n",
    "# In this column, missing values refer to the absence of garage.\n",
    "# Hence we impute the missing values with string \"NoGarage\".\n",
    "data_ref[\"GarageCond\"] = data_ref[\"GarageCond\"].fillna(\"NoGarage\")\n",
    "\n",
    "# 12. PoolQC\n",
    "# In this column, missing values refer to the absence of pool.\n",
    "# Hence we impute the missing values with string \"NoPool\".\n",
    "data_ref[\"PoolQC\"] = data_ref[\"PoolQC\"].fillna(\"NoPool\")\n",
    "\n",
    "# 13. Fence\n",
    "# In this column, missing values refer to the absence of fence.\n",
    "# Hence we impute the missing values with string \"NoFence\".\n",
    "data_ref[\"Fence\"] = data_ref[\"Fence\"].fillna(\"NoFence\")\n",
    "\n",
    "# 14. MiscFeature\n",
    "data_ref[\"MiscFeature\"] = data_ref[\"MiscFeature\"].fillna(\"Nothing\")"
   ]
  },
  {
   "cell_type": "code",
   "execution_count": 5,
   "id": "a3fab96a-9d48-4fbd-b7a5-cb88c877a74f",
   "metadata": {},
   "outputs": [
    {
     "name": "stdout",
     "output_type": "stream",
     "text": [
      "Existence of missing values in column SalePrice: False\n"
     ]
    }
   ],
   "source": [
    "# Let us check wheter there are missing values in the column \"SalePrice\":\n",
    "print(\"Existence of missing values in column SalePrice:\",\n",
    "      data_ref.isnull().any()[\"SalePrice\"])"
   ]
  },
  {
   "cell_type": "markdown",
   "id": "581d287f-a6bc-41b8-8d9d-1fea25f9446d",
   "metadata": {},
   "source": [
    "## Building Model"
   ]
  },
  {
   "cell_type": "markdown",
   "id": "176d8114-c292-4e9b-a1ba-1b38c86e788e",
   "metadata": {},
   "source": [
    "### Setting the Feature and Target"
   ]
  },
  {
   "cell_type": "code",
   "execution_count": 6,
   "id": "ad14a1bf-722b-4776-aab1-247419f56b3e",
   "metadata": {},
   "outputs": [],
   "source": [
    "# The feature and the target for the machine learning model\n",
    "# are given as follows:\n",
    "X, y = data_ref.drop([\"SalePrice\"], axis= 1), data_ref.SalePrice"
   ]
  },
  {
   "cell_type": "markdown",
   "id": "7c0d1f06-fec1-4a64-b15c-2bb7f663685b",
   "metadata": {},
   "source": [
    "### Model Guideline"
   ]
  },
  {
   "cell_type": "markdown",
   "id": "1f225fac-4142-4006-85b5-1fca552a5a82",
   "metadata": {},
   "source": [
    "For all the model, we will use XGBRegressor algorithm with cross validation score.\n",
    "We will seek the best number of estimator for the ML model. We determine the range\n",
    "of the numbers as follows:"
   ]
  },
  {
   "cell_type": "code",
   "execution_count": 7,
   "id": "886464e7-655a-479b-afdc-4e94c9bcd0ed",
   "metadata": {},
   "outputs": [],
   "source": [
    "# The range of n_estimators for XGBRegressor:\n",
    "range_n_est = list(range(100, 500, 10))"
   ]
  },
  {
   "cell_type": "markdown",
   "id": "c8b24251-ee1a-4759-8245-0d1946d5b64c",
   "metadata": {},
   "source": [
    "### General Model Score Function"
   ]
  },
  {
   "cell_type": "code",
   "execution_count": 8,
   "id": "43281df1-acae-48a8-adf2-140d83246c24",
   "metadata": {},
   "outputs": [],
   "source": [
    "# Now we build a function to measure the performance of some different\n",
    "# variations of the model:\n",
    "\n",
    "def model_score(ft, targ, n_est, prep, n_cv= 5):\n",
    "    \"\"\"\n",
    "        This function measures the performance of our xgboost model.\n",
    "    We set several variables, namely 'ft' as the features, 'targ' as\n",
    "    the target, 'n_est' as the selected number of estimators for the\n",
    "    XGBRegressor, 'prep' as a preprocessing protocol (may be in the form\n",
    "    of pipelines), and 'n_cv' as the number of 'cv' parameter in\n",
    "    'cross_val_score'.\n",
    "    \"\"\"\n",
    "    model = XGBRegressor(n_estimators= n_est, learning_rate= 0.05, n_jobs= 6)\n",
    "    model_pipeline = Pipeline(steps= [('preprocessor', prep),\n",
    "                                  ('model', model)])\n",
    "    score = -1 * cross_val_score(model_pipeline,\n",
    "                                 ft,\n",
    "                                 targ,\n",
    "                                 cv= n_cv,\n",
    "                                 scoring= \"neg_mean_absolute_error\")\n",
    "    return score.mean()"
   ]
  },
  {
   "cell_type": "code",
   "execution_count": 9,
   "id": "b9d601d7-81df-42f2-92dc-4f87953f44a5",
   "metadata": {},
   "outputs": [
    {
     "name": "stdout",
     "output_type": "stream",
     "text": [
      "\n",
      "        This function measures the performance of our xgboost model.\n",
      "    We set several variables, namely 'ft' as the features, 'targ' as\n",
      "    the target, 'n_est' as the selected number of estimators for the\n",
      "    XGBRegressor, 'prep' as a preprocessing protocol (may be in the form\n",
      "    of pipelines), and 'n_cv' as the number of 'cv' parameter in\n",
      "    'cross_val_score'.\n",
      "    \n"
     ]
    }
   ],
   "source": [
    "print(model_score.__doc__)"
   ]
  },
  {
   "cell_type": "markdown",
   "id": "f619f4f4-0cdd-46a0-99c6-249dd239275d",
   "metadata": {},
   "source": [
    "### Method 1: Dropping All Missing Values & Object Data"
   ]
  },
  {
   "cell_type": "code",
   "execution_count": 10,
   "id": "4025bf72-6a6a-4dd8-9706-1b51bb25b826",
   "metadata": {},
   "outputs": [],
   "source": [
    "# In order to work well with pipline, we create a class for dropping columns\n",
    "# in our dataframe:\n",
    "class ColumnsDropper:\n",
    "    def __init__(self, cols):\n",
    "        self.cols = cols\n",
    "        \n",
    "    def transform(self, ft, targ= None):\n",
    "        return ft.drop(self.cols, axis= 1)\n",
    "    \n",
    "    def fit(self, ft, targ= None):\n",
    "        return self"
   ]
  },
  {
   "cell_type": "code",
   "execution_count": 11,
   "id": "c48b8a8f-9b93-4d1d-a098-a101aae51fbb",
   "metadata": {},
   "outputs": [],
   "source": [
    "# For the first method, we drop all the columns with missing values\n",
    "# and the categorical columns:\n",
    "cols_drop_m1 = [col for col in data_ref.columns\n",
    "                if (data_ref.isnull().any()[col]\n",
    "                or data_ref[col].dtype == 'object')\n",
    "               ]\n",
    "\n",
    "# Preprocessor for method 1:\n",
    "prep_m1 = Pipeline(steps= [('col_drop', ColumnsDropper(cols_drop_m1))])"
   ]
  },
  {
   "cell_type": "markdown",
   "id": "060937bf-2ba6-4c5d-b6b2-25a880e4e7f2",
   "metadata": {},
   "source": [
    "### Method 2: Dropping All Missing Values"
   ]
  },
  {
   "cell_type": "code",
   "execution_count": 12,
   "id": "c05c03eb-ad0d-408c-871c-119bd19de815",
   "metadata": {},
   "outputs": [],
   "source": [
    "# Columns with missing values:\n",
    "cols_nan_m2 = [col for col in data_ref.columns\n",
    "               if data_ref.isnull().any()[col]]\n",
    "\n",
    "# Categorical columns:\n",
    "cat_cols_m2 = [col for col in data_ref.columns\n",
    "               if data_ref[col].dtype == 'object'\n",
    "               and not (col in cols_nan_m2)]\n",
    "\n",
    "# Pipelines:\n",
    "cat_pipe_m2 = Pipeline(\n",
    "    steps= [('oh_encoder',\n",
    "             OneHotEncoder(handle_unknown= 'ignore'))\n",
    "           ]\n",
    ")\n",
    "cat_trans_m2 = ColumnTransformer(\n",
    "    transformers= [('oh_encoding', cat_pipe_m2, cat_cols_m2)\n",
    "                  ]\n",
    ")\n",
    "\n",
    "# Preprocesseor for method 2:\n",
    "prep_m2 = Pipeline(steps= [('drop', ColumnsDropper(cols_nan_m2)),\n",
    "                           ('cat_trans', cat_trans_m2)]\n",
    "                  )"
   ]
  },
  {
   "cell_type": "markdown",
   "id": "a87d1f37-cec9-4945-a443-67c9c45d1f1e",
   "metadata": {},
   "source": [
    "### Method 3: Imputing Missing Values, One Hot Encoding & Normalisation"
   ]
  },
  {
   "cell_type": "code",
   "execution_count": 13,
   "id": "040c5bba-93fa-4b73-b743-c2ac61e64c6e",
   "metadata": {},
   "outputs": [],
   "source": [
    "# Numeric Columns:\n",
    "num_cols_m3 = [col for col in X.columns\n",
    "               if data_ref[col].dtype in ['int64', 'float64']]\n",
    "\n",
    "# Categorical Columns:\n",
    "cat_cols_m3 = [col for col in X.columns\n",
    "               if data_ref[col].dtype == 'object']\n",
    "\n",
    "# Pipelines:\n",
    "num_pipe_m3 = Pipeline(\n",
    "    steps= [('imputing', SimpleImputer(strategy= 'mean'))]\n",
    ")\n",
    "cat_pipe_m3 = Pipeline(\n",
    "    steps= [('imputing', SimpleImputer(strategy= 'most_frequent')),\n",
    "            ('oh_encoding', OneHotEncoder(handle_unknown= 'ignore'))\n",
    "           ]\n",
    ")\n",
    "\n",
    "# Column transformation/Preprocessing for method 3:\n",
    "prep_m3 = ColumnTransformer(\n",
    "    transformers= [('num_trans', num_pipe_m3, num_cols_m3),\n",
    "                   ('cat_trans', cat_pipe_m3, cat_cols_m3),\n",
    "                   ('normalisation', StandardScaler(), num_cols_m3)\n",
    "                  ]\n",
    ")"
   ]
  },
  {
   "cell_type": "markdown",
   "id": "9702c823-d364-4097-9c23-2759241f6c73",
   "metadata": {},
   "source": [
    "### Scoring of Each Method"
   ]
  },
  {
   "cell_type": "markdown",
   "id": "a8d7a03f-2dec-4b40-9a05-50c9c6abd85e",
   "metadata": {},
   "source": [
    "#### Setting Up a Dictionary for the Score"
   ]
  },
  {
   "cell_type": "code",
   "execution_count": 14,
   "id": "986a668c-2ada-49c6-9e0e-115d7942d70c",
   "metadata": {},
   "outputs": [],
   "source": [
    "# Now we create a dictionary whose keys are the possible numbers of estimators\n",
    "# for XGBRegressor, and whose values are the model scores given by\n",
    "# 'model_score' function that we created earlier:\n",
    "dict_score_model = {\n",
    "    'Model_1': [model_score(X, y, n, prep_m1) for n in range_n_est],\n",
    "    'Model_2': [model_score(X, y, n, prep_m2) for n in range_n_est],\n",
    "    'Model_3': [model_score(X, y, n, prep_m3) for n in range_n_est]\n",
    "}"
   ]
  },
  {
   "cell_type": "markdown",
   "id": "81016d82-d9c2-4139-8b8f-fe7232754a68",
   "metadata": {},
   "source": [
    "#### Setting Up a Data Frame for the Score"
   ]
  },
  {
   "cell_type": "code",
   "execution_count": 15,
   "id": "82dd90e7-f3f3-48b5-8d64-db323826d84f",
   "metadata": {},
   "outputs": [],
   "source": [
    "# Now we create a dataframe from the dictionary above:\n",
    "df_score_models = pd.DataFrame(dict_score_model)\n",
    "\n",
    "# Setting 'range_n_est' as the index for the data frame:\n",
    "df_score_models.index = range_n_est"
   ]
  },
  {
   "cell_type": "markdown",
   "id": "e245f7b4-155d-41b0-8626-198b332ce909",
   "metadata": {},
   "source": [
    "#### Making a Visualisastion for the Score"
   ]
  },
  {
   "cell_type": "code",
   "execution_count": 16,
   "id": "baae999b-4819-42ef-b66f-090780232953",
   "metadata": {},
   "outputs": [
    {
     "data": {
      "image/png": "[encoded data removed]",
      "text/plain": [
       "<Figure size 576x576 with 1 Axes>"
      ]
     },
     "metadata": {
      "needs_background": "light"
     },
     "output_type": "display_data"
    }
   ],
   "source": [
    "# Now let us visualise the score for the models:\n",
    "plt.figure(figsize= (8, 8))\n",
    "for col in df_score_models.columns:\n",
    "    plt.plot(df_score_models[col], label= col, marker= '.')\n",
    "plt.title(\"All Three Models' Score\", pad= 12, fontsize= 15, color= 'blue')\n",
    "plt.xlabel(\"Number of Estimators\", fontsize= 12, color= 'blue')\n",
    "plt.ylabel(\"Mean Absolute Error Score\", fontsize= 12, color= 'blue')\n",
    "plt.grid(linestyle= '-.', linewidth= 0.3, color= 'blue')\n",
    "plt.legend()\n",
    "plt.show()"
   ]
  },
  {
   "cell_type": "markdown",
   "id": "d0562dc3-23b9-4f4b-99ff-f2db7c65c35d",
   "metadata": {},
   "source": [
    "#### Deciding the Best Model"
   ]
  },
  {
   "cell_type": "code",
   "execution_count": 29,
   "id": "09977f9b-7f5e-4a03-8d39-c9badd34f26e",
   "metadata": {},
   "outputs": [
    {
     "name": "stdout",
     "output_type": "stream",
     "text": [
      "The best model is Model_3.\n",
      "The best number of estimators = 400\n",
      "The best (least) score = 15909.832526220034\n"
     ]
    }
   ],
   "source": [
    "# The best model:\n",
    "best_model = [\n",
    "    col for col in df_score_models.columns\n",
    "    if df_score_models[col].min() == df_score_models.min().min()\n",
    "][0]\n",
    "print(f\"The best model is {best_model}.\")\n",
    "\n",
    "# The best number of estimators:\n",
    "best_n_est = [\n",
    "    n for n, s in zip(range_n_est, df_score_models[best_model])\n",
    "    if df_score_models[best_model][n] == df_score_models[best_model].min()\n",
    "][0]\n",
    "print(f\"The best number of estimators = {best_n_est}\")\n",
    "print(f\"The best (least) score = {df_score_models.min().min()}\")"
   ]
  },
  {
   "cell_type": "markdown",
   "id": "9fc15df6-8713-4ded-ad5f-0cc40f2c5ac7",
   "metadata": {},
   "source": [
    "### The Chosen Model"
   ]
  },
  {
   "cell_type": "markdown",
   "id": "aa321a0c-ffca-4b9c-9d85-0dc56ce13b8a",
   "metadata": {},
   "source": [
    "Based on the result above, now we desgin the machine learning model that we\n",
    "will use to predict the house price."
   ]
  },
  {
   "cell_type": "code",
   "execution_count": 30,
   "id": "9d356c7e-b1e0-4a7b-8b3a-961b662b6d9a",
   "metadata": {},
   "outputs": [
    {
     "data": {
      "text/plain": [
       "Pipeline(steps=[('prep_m3',\n",
       "                 ColumnTransformer(transformers=[('num_trans',\n",
       "                                                  Pipeline(steps=[('imputing',\n",
       "                                                                   SimpleImputer())]),\n",
       "                                                  ['MSSubClass', 'LotFrontage',\n",
       "                                                   'LotArea', 'OverallQual',\n",
       "                                                   'OverallCond', 'YearBuilt',\n",
       "                                                   'YearRemodAdd', 'MasVnrArea',\n",
       "                                                   'BsmtFinSF1', 'BsmtFinSF2',\n",
       "                                                   'BsmtUnfSF', 'TotalBsmtSF',\n",
       "                                                   '1stFlrSF', '2ndFlrSF',\n",
       "                                                   'LowQualFinSF', 'GrLivArea',\n",
       "                                                   'BsmtFullBath',\n",
       "                                                   'BsmtHalf...\n",
       "                              gamma=0, gpu_id=-1, importance_type=None,\n",
       "                              interaction_constraints='', learning_rate=0.05,\n",
       "                              max_delta_step=0, max_depth=6, min_child_weight=1,\n",
       "                              missing=nan, monotone_constraints='()',\n",
       "                              n_estimators=400, n_jobs=6, num_parallel_tree=1,\n",
       "                              predictor='auto', random_state=0, reg_alpha=0,\n",
       "                              reg_lambda=1, scale_pos_weight=1, subsample=1,\n",
       "                              tree_method='exact', validate_parameters=1,\n",
       "                              verbosity=None))])"
      ]
     },
     "execution_count": 30,
     "metadata": {},
     "output_type": "execute_result"
    }
   ],
   "source": [
    "# The model that we will use:\n",
    "model_in_charge = XGBRegressor(n_estimators= best_n_est,\n",
    "                               learning_rate= 0.05, n_jobs= 6\n",
    "                              )\n",
    "# Preprocessing in use:\n",
    "final_preprocessor = Pipeline(\n",
    "    steps=[('prep_m3', prep_m3), ('model', model_in_charge)]\n",
    ")\n",
    "\n",
    "# Fitting the model:\n",
    "final_preprocessor.fit(X, y)"
   ]
  },
  {
   "cell_type": "markdown",
   "id": "3f759029-0d56-4bda-a86f-f3b78978f8b7",
   "metadata": {},
   "source": [
    "## Answering the Big Question: Prediction"
   ]
  },
  {
   "cell_type": "markdown",
   "id": "52cd84d4-091f-44df-a844-801a557a8bac",
   "metadata": {},
   "source": [
    "### Data for Prediction (Features)"
   ]
  },
  {
   "cell_type": "code",
   "execution_count": 46,
   "id": "ffd6a7e5-a235-4a13-b0fc-0ff5d170c3a4",
   "metadata": {},
   "outputs": [],
   "source": [
    "# The features used for the prediction is given as follows:\n",
    "fin_features_source = \"house-prices-advanced-regression-techniques/test.csv\"\n",
    "fin_features_df = pd.read_csv(pred_source, index_col= 'Id')"
   ]
  },
  {
   "cell_type": "markdown",
   "id": "f0ad1351-4a5f-4d4b-b144-8da6f6a5024e",
   "metadata": {},
   "source": [
    "### Predicting the Data"
   ]
  },
  {
   "cell_type": "code",
   "execution_count": 48,
   "id": "fa614e44-06e7-41e1-9999-d742fd20c652",
   "metadata": {},
   "outputs": [],
   "source": [
    "fin_pred = final_preprocessor.predict(fin_features_df)"
   ]
  },
  {
   "cell_type": "code",
   "execution_count": 49,
   "id": "3fbc7ce1-7383-4c24-987b-4f7b20554308",
   "metadata": {},
   "outputs": [],
   "source": [
    "pred_dict = {'Id': fin_features_df.index, 'SalePrice': fin_pred}\n",
    "pred_df = pd.DataFrame(pred_dict)"
   ]
  },
  {
   "cell_type": "code",
   "execution_count": 64,
   "id": "249eb140-86a2-4d01-9c6c-8390ee31712a",
   "metadata": {},
   "outputs": [],
   "source": [
    "# Exporting the result to csv:\n",
    "# pred_df.to_csv(\"submission.csv\", index= False)"
   ]
  },
  {
   "cell_type": "code",
   "execution_count": 66,
   "id": "1e3ef5f2-5003-4d4f-b49c-1029164d4bb1",
   "metadata": {},
   "outputs": [
    {
     "data": {
      "text/html": [
       "<div>\n",
       "<style scoped>\n",
       "    .dataframe tbody tr th:only-of-type {\n",
       "        vertical-align: middle;\n",
       "    }\n",
       "\n",
       "    .dataframe tbody tr th {\n",
       "        vertical-align: top;\n",
       "    }\n",
       "\n",
       "    .dataframe thead th {\n",
       "        text-align: right;\n",
       "    }\n",
       "</style>\n",
       "<table border=\"1\" class=\"dataframe\">\n",
       "  <thead>\n",
       "    <tr style=\"text-align: right;\">\n",
       "      <th></th>\n",
       "      <th>Id</th>\n",
       "      <th>SalePrice</th>\n",
       "    </tr>\n",
       "  </thead>\n",
       "  <tbody>\n",
       "    <tr>\n",
       "      <th>0</th>\n",
       "      <td>1461</td>\n",
       "      <td>125323.734</td>\n",
       "    </tr>\n",
       "    <tr>\n",
       "      <th>1</th>\n",
       "      <td>1462</td>\n",
       "      <td>155693.520</td>\n",
       "    </tr>\n",
       "    <tr>\n",
       "      <th>2</th>\n",
       "      <td>1463</td>\n",
       "      <td>183131.050</td>\n",
       "    </tr>\n",
       "    <tr>\n",
       "      <th>3</th>\n",
       "      <td>1464</td>\n",
       "      <td>186653.940</td>\n",
       "    </tr>\n",
       "    <tr>\n",
       "      <th>4</th>\n",
       "      <td>1465</td>\n",
       "      <td>186656.050</td>\n",
       "    </tr>\n",
       "    <tr>\n",
       "      <th>...</th>\n",
       "      <td>...</td>\n",
       "      <td>...</td>\n",
       "    </tr>\n",
       "    <tr>\n",
       "      <th>1454</th>\n",
       "      <td>2915</td>\n",
       "      <td>81377.080</td>\n",
       "    </tr>\n",
       "    <tr>\n",
       "      <th>1455</th>\n",
       "      <td>2916</td>\n",
       "      <td>78497.984</td>\n",
       "    </tr>\n",
       "    <tr>\n",
       "      <th>1456</th>\n",
       "      <td>2917</td>\n",
       "      <td>151725.080</td>\n",
       "    </tr>\n",
       "    <tr>\n",
       "      <th>1457</th>\n",
       "      <td>2918</td>\n",
       "      <td>116269.060</td>\n",
       "    </tr>\n",
       "    <tr>\n",
       "      <th>1458</th>\n",
       "      <td>2919</td>\n",
       "      <td>213446.050</td>\n",
       "    </tr>\n",
       "  </tbody>\n",
       "</table>\n",
       "<p>1459 rows × 2 columns</p>\n",
       "</div>"
      ],
      "text/plain": [
       "        Id   SalePrice\n",
       "0     1461  125323.734\n",
       "1     1462  155693.520\n",
       "2     1463  183131.050\n",
       "3     1464  186653.940\n",
       "4     1465  186656.050\n",
       "...    ...         ...\n",
       "1454  2915   81377.080\n",
       "1455  2916   78497.984\n",
       "1456  2917  151725.080\n",
       "1457  2918  116269.060\n",
       "1458  2919  213446.050\n",
       "\n",
       "[1459 rows x 2 columns]"
      ]
     },
     "execution_count": 66,
     "metadata": {},
     "output_type": "execute_result"
    }
   ],
   "source": [
    "# Checking:\n",
    "submission_df = pd.read_csv(\"submission.csv\")\n",
    "submission_df"
   ]
  }
 ],
 "metadata": {
  "kernelspec": {
   "display_name": "Python 3",
   "language": "python",
   "name": "python3"
  },
  "language_info": {
   "codemirror_mode": {
    "name": "ipython",
    "version": 3
   },
   "file_extension": ".py",
   "mimetype": "text/x-python",
   "name": "python",
   "nbconvert_exporter": "python",
   "pygments_lexer": "ipython3",
   "version": "3.8.8"
  }
 },
 "nbformat": 4,
 "nbformat_minor": 5
}
